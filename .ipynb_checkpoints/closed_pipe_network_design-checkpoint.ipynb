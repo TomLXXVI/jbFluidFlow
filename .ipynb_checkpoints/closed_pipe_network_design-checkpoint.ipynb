{
 "cells": [
  {
   "cell_type": "markdown",
   "id": "f08edfd6-4ab6-436e-9f06-bec7e6899c3d",
   "metadata": {},
   "source": [
    "# Design of a Hydronic Pipe Network\n",
    "---"
   ]
  },
  {
   "cell_type": "markdown",
   "id": "600b07fd-d616-4ab6-9854-0f3c2c1881d9",
   "metadata": {},
   "source": [
    "This notebook demonstrates how a hydronic distribution system for heating can be designed with the `hvac.fluid_flow` package."
   ]
  },
  {
   "cell_type": "code",
   "execution_count": 1,
   "id": "97531404-bac2-4e91-bcb2-274f813d41d5",
   "metadata": {
    "jupyter": {
     "source_hidden": true
    },
    "tags": [
     "remove-cell"
    ]
   },
   "outputs": [],
   "source": [
    "from deps import load_packages\n",
    "load_packages()"
   ]
  },
  {
   "cell_type": "code",
   "execution_count": 2,
   "id": "470bf04f-3ddc-4c03-a991-4deb2b33e694",
   "metadata": {
    "jupyter": {
     "source_hidden": true
    },
    "tags": [
     "remove-cell"
    ]
   },
   "outputs": [
    {
     "data": {
      "text/html": [
       "<style>.my_table {\n",
       "    display: flex;\n",
       "    justify-content: center;\n",
       "}\n",
       "\n",
       ".my_table table {\n",
       "    border: 1px solid #ddd;\n",
       "}\n",
       "\n",
       ".my_table th, .my_table td {\n",
       "    padding: 8px;\n",
       "    border: 1px solid #ddd;\n",
       "    font-size: 1.25em;\n",
       "}\n",
       "\n",
       ".my_table td {\n",
       "    text-align: left;\n",
       "}\n",
       "\n",
       ".my_table th {\n",
       "    text-align: center;\n",
       "}\n",
       "\n",
       ".jp-Cell-outputArea {\n",
       "    box-shadow: none !important;\n",
       "}\n",
       "</style><p>Loaded <code>my_styles.css</code></p>"
      ],
      "text/plain": [
       "<IPython.core.display.HTML object>"
      ]
     },
     "execution_count": 2,
     "metadata": {},
     "output_type": "execute_result"
    }
   ],
   "source": [
    "import jupyter_addons as ja\n",
    "ja.set_css()"
   ]
  },
  {
   "cell_type": "markdown",
   "id": "11fd5f0e-7d81-45d4-9fbe-550698f5a1e0",
   "metadata": {
    "tags": []
   },
   "source": [
    "## Let's Import What We'll Need"
   ]
  },
  {
   "cell_type": "code",
   "execution_count": 3,
   "id": "61fac9de-3944-41d9-8677-7529770cabfd",
   "metadata": {},
   "outputs": [],
   "source": [
    "from hvac import Quantity\n",
    "from hvac.fluid_flow import PipeNetwork, PipeScheduleFactory\n",
    "from hvac.fluids import Fluid"
   ]
  },
  {
   "cell_type": "code",
   "execution_count": 4,
   "id": "6fbcdd70-daf8-45d1-ba43-7a9a5f779c2c",
   "metadata": {},
   "outputs": [],
   "source": [
    "Q_ = Quantity"
   ]
  },
  {
   "cell_type": "markdown",
   "id": "bd38a806-f61f-42ee-bb39-f2ac17522d70",
   "metadata": {},
   "source": [
    "## Hydronic Network Scheme"
   ]
  },
  {
   "cell_type": "markdown",
   "id": "19140dc4-b71f-4fd1-8226-e3b009548194",
   "metadata": {},
   "source": [
    "![scheme](./images/hydronic_network.png)"
   ]
  },
  {
   "cell_type": "markdown",
   "id": "c8e04b5e-37a8-4366-8370-5bdf84636a78",
   "metadata": {},
   "source": [
    "## Define the Fluid in the Pipe Network"
   ]
  },
  {
   "cell_type": "markdown",
   "id": "df167c85-3014-4281-b63a-f1b503e4f91a",
   "metadata": {},
   "source": [
    "In a hydronic heating system water is being used as the heat carrier to transport heat from the heat generator(s) to the heat emitters."
   ]
  },
  {
   "cell_type": "code",
   "execution_count": 5,
   "id": "2d5dc5e6-c005-4bf2-8c41-5bd1773025d4",
   "metadata": {},
   "outputs": [],
   "source": [
    "Water = Fluid('Water')\n",
    "heating_water = Water(T=Q_(50, 'degC'), P=Q_(2, 'bar'))"
   ]
  },
  {
   "cell_type": "markdown",
   "id": "14da5d1f-3c74-4f3c-889f-ed4f34833c8f",
   "metadata": {},
   "source": [
    "## Configuration of the Pipe Network"
   ]
  },
  {
   "cell_type": "markdown",
   "id": "0ecb2c08-47a3-4062-aec7-deef27540087",
   "metadata": {},
   "source": [
    "The configuration of a fluid flow network can be done in a spreadsheet program, like Excel or OpenOffice Calc. Each row of the spreadsheet table represents a pipe in the network. The interconnection of pipes in the network happens with nodes. Each pipe has a start node and an end node, as shown by the dots in the network scheme above. The nodes allow the program to find out how the pipes in the network are interconnected. The first row of the spreadsheet table is the header. The header labels cannot be chosen freely; they must be known by the program. In the code block below the spreedsheet table for this example is displayed to show you how the table looks like in the spreadsheet program:"
   ]
  },
  {
   "cell_type": "code",
   "execution_count": 6,
   "id": "edd3b98c-02a6-44d1-ae6b-a6cd49ee5bc4",
   "metadata": {
    "jupyter": {
     "source_hidden": true
    },
    "tags": [
     "hide-input"
    ]
   },
   "outputs": [
    {
     "data": {
      "text/html": [
       "<div class=\"my_table\"><table border=\"1\" class=\"dataframe\">\n",
       "  <thead>\n",
       "    <tr style=\"text-align: right;\">\n",
       "      <th></th>\n",
       "      <th>conduit_ID</th>\n",
       "      <th>start_node_ID</th>\n",
       "      <th>end_node_ID</th>\n",
       "      <th>loop_ID</th>\n",
       "      <th>schedule</th>\n",
       "      <th>length</th>\n",
       "      <th>volume_flow_rate</th>\n",
       "      <th>specific_pressure_drop</th>\n",
       "    </tr>\n",
       "  </thead>\n",
       "  <tbody>\n",
       "    <tr>\n",
       "      <th>0</th>\n",
       "      <td>P1</td>\n",
       "      <td>S0</td>\n",
       "      <td>S1</td>\n",
       "      <td>L1</td>\n",
       "      <td>copper</td>\n",
       "      <td>4</td>\n",
       "      <td>0.458</td>\n",
       "      <td>0.2</td>\n",
       "    </tr>\n",
       "    <tr>\n",
       "      <th>1</th>\n",
       "      <td>P2</td>\n",
       "      <td>S1</td>\n",
       "      <td>S2</td>\n",
       "      <td>L2</td>\n",
       "      <td>copper</td>\n",
       "      <td>2</td>\n",
       "      <td>0.397</td>\n",
       "      <td>0.2</td>\n",
       "    </tr>\n",
       "    <tr>\n",
       "      <th>2</th>\n",
       "      <td>P3</td>\n",
       "      <td>S2</td>\n",
       "      <td>S3</td>\n",
       "      <td>L3</td>\n",
       "      <td>copper</td>\n",
       "      <td>2</td>\n",
       "      <td>0.214</td>\n",
       "      <td>0.2</td>\n",
       "    </tr>\n",
       "    <tr>\n",
       "      <th>3</th>\n",
       "      <td>P4</td>\n",
       "      <td>S3</td>\n",
       "      <td>S4</td>\n",
       "      <td>L4</td>\n",
       "      <td>copper</td>\n",
       "      <td>2</td>\n",
       "      <td>0.122</td>\n",
       "      <td>0.2</td>\n",
       "    </tr>\n",
       "    <tr>\n",
       "      <th>4</th>\n",
       "      <td>P5</td>\n",
       "      <td>S1</td>\n",
       "      <td>R1</td>\n",
       "      <td>(L1, L2)</td>\n",
       "      <td>pex</td>\n",
       "      <td>25</td>\n",
       "      <td>0.061</td>\n",
       "      <td>0.2</td>\n",
       "    </tr>\n",
       "    <tr>\n",
       "      <th>5</th>\n",
       "      <td>P6</td>\n",
       "      <td>S2</td>\n",
       "      <td>R2</td>\n",
       "      <td>(L2, L3)</td>\n",
       "      <td>pex</td>\n",
       "      <td>25</td>\n",
       "      <td>0.183</td>\n",
       "      <td>0.2</td>\n",
       "    </tr>\n",
       "    <tr>\n",
       "      <th>6</th>\n",
       "      <td>P7</td>\n",
       "      <td>S3</td>\n",
       "      <td>R3</td>\n",
       "      <td>(L3, L4)</td>\n",
       "      <td>pex</td>\n",
       "      <td>15</td>\n",
       "      <td>0.092</td>\n",
       "      <td>0.2</td>\n",
       "    </tr>\n",
       "    <tr>\n",
       "      <th>7</th>\n",
       "      <td>P8</td>\n",
       "      <td>S4</td>\n",
       "      <td>R4</td>\n",
       "      <td>L4</td>\n",
       "      <td>pex</td>\n",
       "      <td>20</td>\n",
       "      <td>0.122</td>\n",
       "      <td>0.2</td>\n",
       "    </tr>\n",
       "    <tr>\n",
       "      <th>8</th>\n",
       "      <td>P9</td>\n",
       "      <td>R4</td>\n",
       "      <td>R3</td>\n",
       "      <td>L4</td>\n",
       "      <td>copper</td>\n",
       "      <td>2</td>\n",
       "      <td>0.122</td>\n",
       "      <td>0.2</td>\n",
       "    </tr>\n",
       "    <tr>\n",
       "      <th>9</th>\n",
       "      <td>P10</td>\n",
       "      <td>R3</td>\n",
       "      <td>R2</td>\n",
       "      <td>L3</td>\n",
       "      <td>copper</td>\n",
       "      <td>2</td>\n",
       "      <td>0.214</td>\n",
       "      <td>0.2</td>\n",
       "    </tr>\n",
       "    <tr>\n",
       "      <th>10</th>\n",
       "      <td>P11</td>\n",
       "      <td>R2</td>\n",
       "      <td>R1</td>\n",
       "      <td>L2</td>\n",
       "      <td>copper</td>\n",
       "      <td>2</td>\n",
       "      <td>0.397</td>\n",
       "      <td>0.2</td>\n",
       "    </tr>\n",
       "    <tr>\n",
       "      <th>11</th>\n",
       "      <td>P12</td>\n",
       "      <td>R1</td>\n",
       "      <td>R0</td>\n",
       "      <td>L1</td>\n",
       "      <td>copper</td>\n",
       "      <td>4</td>\n",
       "      <td>0.458</td>\n",
       "      <td>0.2</td>\n",
       "    </tr>\n",
       "  </tbody>\n",
       "</table></div>"
      ],
      "text/plain": [
       "<IPython.core.display.HTML object>"
      ]
     },
     "metadata": {},
     "output_type": "display_data"
    }
   ],
   "source": [
    "import pandas as pd\n",
    "\n",
    "table = pd.read_csv('./networks/ex1_closed-pipe-network-design.csv')\n",
    "ja.display_table(table)"
   ]
  },
  {
   "cell_type": "markdown",
   "id": "024abd95-1bb8-4c3e-a2fd-59dcf0773847",
   "metadata": {},
   "source": [
    "This table is used to design a pipe network. When designing a pipe network the length and the design volume flow rate of each pipe are already known. A reasonble specific pressure drop needs to be chosen for each pipe. In this case a specific pressure drop of 0.2 kPa/m has been selected. Notice that there are no measuring units mentioned in the table. We can use any appropriate unit we want for a certain quantity, but later on we will have to tell the program what these units are. In the last column *schedule* a name has been entered that refers to a collection of commercially available pipe sizes. More explanation about this feature will follow, but first a worth about the header labels:\n",
    "- The column *conduit_ID* contains a reference name or ID for each pipe in the network.\n",
    "- The column *start_node_ID* specifies the ID of the pipe's start node, i.e. the node where the fluid leaves.\n",
    "- The column *end_node_ID* specifies the ID of the pipe's end node, i.e. the node where the fluid arrives.\n",
    "- The column *loop_ID* is not required, and thus optional, when designing a pipe network, but we will need this if we want to analyze our network later on with the Hardy Cross method. This will be explained in a subsequent notebook where we will analyze the behaviour of the network when control valves get more closed.\n",
    "- The column *schedule* contains a reference name (that you can choose freely) to a collection of commercially available pipe sizes. When designing a network this column is optional. You can also assign only one schedule to the whole network, if all pipes in the network are of the same type. Or you could omit the schedule, but then you'll get calculated, theoretical pipe diameters returned, which probably won't be commercially available.\n",
    "- The column *length* contains the length of each pipe (expressed in the unit you prefer)\n",
    "- The column *volume_flow_rate* contains the design volume flow rate in each pipe (expressed in the unit you prefer)\n",
    "- The column *specific_pressure_drop* contains the pressure drop per unit pipe length (expressed in the units you prefer)\n",
    "\n",
    "These header labels are needed when designing a pipe network. But there are more header labels defined in the program that can or will be needed when designing a duct network or when analyzing an existing pipe or duct network. These additional header labels will be discussed in subsequent notebooks.\n",
    "\n",
    "> **IMPORTANT!**<br>\n",
    "> When the table in the spreadsheet program is ready, you must save it as a comma-separated-values (csv) file, as this is the only file format that can be loaded by the program. Also be aware for the decimal point. It must be a point, not a comma! If the latter case is true, you can easily change this in the spreadsheet program, e.g. by selecting the table or the whole sheet and then changing the language formatting of the spreadsheet cells to any language format that uses a point to separate the decimals of a number before saving as a csv-file."
   ]
  },
  {
   "cell_type": "markdown",
   "id": "01320d0a-8ad4-4fc4-a30c-6d713e0ca569",
   "metadata": {},
   "source": [
    "## Sizing the Pipes in the Network"
   ]
  },
  {
   "cell_type": "markdown",
   "id": "be623ae6-5ebd-42fc-b304-93cbccde0694",
   "metadata": {},
   "source": [
    "### Loading the Pipe Schedules"
   ]
  },
  {
   "cell_type": "markdown",
   "id": "19bb2c99-747e-407a-a359-0e81526d1f1c",
   "metadata": {},
   "source": [
    "As can be seen in the table above, we use two different reference names to reference two different collections of commercially available pipes, that are called \"schedules\". As one could have guessed, \"copper\" refers to copper tubes, while \"pex\" refers to PEX-AL-PEX tubing.\n",
    "\n",
    "Any schedule you want can be used by the program. For this you need to make a \"schedule table\" in a spreadsheet program. The following code shows a fragment of the spreadsheet table for \"copper\":"
   ]
  },
  {
   "cell_type": "code",
   "execution_count": 7,
   "id": "2e0bc7de-076f-4a84-8e71-1fe94787b424",
   "metadata": {
    "jupyter": {
     "source_hidden": true
    },
    "tags": [
     "hide-input"
    ]
   },
   "outputs": [
    {
     "data": {
      "text/html": [
       "<div class=\"my_table\"><table border=\"1\" class=\"dataframe\">\n",
       "  <thead>\n",
       "    <tr style=\"text-align: right;\">\n",
       "      <th></th>\n",
       "      <th>D_nom</th>\n",
       "      <th>D_ext</th>\n",
       "      <th>t</th>\n",
       "      <th>D_int</th>\n",
       "    </tr>\n",
       "  </thead>\n",
       "  <tbody>\n",
       "    <tr>\n",
       "      <th>0</th>\n",
       "      <td>10.0</td>\n",
       "      <td>10.0</td>\n",
       "      <td>1.0</td>\n",
       "      <td>8.0</td>\n",
       "    </tr>\n",
       "    <tr>\n",
       "      <th>1</th>\n",
       "      <td>12.0</td>\n",
       "      <td>12.0</td>\n",
       "      <td>1.0</td>\n",
       "      <td>10.0</td>\n",
       "    </tr>\n",
       "    <tr>\n",
       "      <th>2</th>\n",
       "      <td>15.0</td>\n",
       "      <td>15.0</td>\n",
       "      <td>1.0</td>\n",
       "      <td>13.0</td>\n",
       "    </tr>\n",
       "    <tr>\n",
       "      <th>3</th>\n",
       "      <td>18.0</td>\n",
       "      <td>18.0</td>\n",
       "      <td>1.0</td>\n",
       "      <td>16.0</td>\n",
       "    </tr>\n",
       "    <tr>\n",
       "      <th>4</th>\n",
       "      <td>22.0</td>\n",
       "      <td>22.0</td>\n",
       "      <td>1.0</td>\n",
       "      <td>20.0</td>\n",
       "    </tr>\n",
       "  </tbody>\n",
       "</table></div>"
      ],
      "text/plain": [
       "<IPython.core.display.HTML object>"
      ]
     },
     "metadata": {},
     "output_type": "display_data"
    }
   ],
   "source": [
    "schedule_table = pd.read_excel(\n",
    "    io=\"./pipe-schedule-data/copper_tube.ods\",\n",
    "    sheet_name=0,\n",
    "    header=0\n",
    ")\n",
    "ja.display_table(schedule_table.head())"
   ]
  },
  {
   "cell_type": "markdown",
   "id": "7b73d59b-2e34-4af2-9e7a-e338197c81b3",
   "metadata": {},
   "source": [
    "As you can see, the header of the spreadsheet table must have these 4 labels:\n",
    "- the column labeled *D_nom* contains the available nominal pipe diameters\n",
    "- the column labeled *D_ext* contains the corresponding exterior diameters\n",
    "- the column labeled *t* contains the corresponding pipe wall thicknesses\n",
    "- the column labeled *D_int* contains the corresponding interior diameters\n",
    "\n",
    "The values can be expressed in any appropriate measuring unit you prefer, however this unit must be the same for all values in the table."
   ]
  },
  {
   "cell_type": "markdown",
   "id": "bbea79d2-9c8a-41f5-af3f-a96d21f5012c",
   "metadata": {},
   "source": [
    "Having the spreadsheet files saved at a known file location, we can now create the schedules as follows:"
   ]
  },
  {
   "cell_type": "code",
   "execution_count": 8,
   "id": "f33c1b12-6a91-492a-9a20-3511a7521a3b",
   "metadata": {},
   "outputs": [],
   "source": [
    "copper_schedule = PipeScheduleFactory.get(\n",
    "    name='copper',\n",
    "    file_path='./pipe-schedule-data/copper_tube.ods',\n",
    "    unit='mm'\n",
    ")"
   ]
  },
  {
   "cell_type": "markdown",
   "id": "6f2baeb2-801a-48c0-b307-e5a86d43d8a1",
   "metadata": {},
   "source": [
    "We assign the reference name we have used in the pipe network configuration file to the parameter `name`. Next we specify the file path where the schedule file is stored and the unit in which we have expressed the values of the pipe diameters in the table. (The default unit is 'mm', so we could have omitted the parameter `unit` here, however we included it for completeness.) Now we can do exactly the same thing to create our \"pex\" schedule:"
   ]
  },
  {
   "cell_type": "code",
   "execution_count": 9,
   "id": "b4cdc63e-daa0-4b73-9ce6-d7e55e06d545",
   "metadata": {},
   "outputs": [],
   "source": [
    "pex_schedule = PipeScheduleFactory.get(\n",
    "    name='pex',\n",
    "    file_path='./pipe-schedule-data/henco_standard_pex.ods',\n",
    ")"
   ]
  },
  {
   "cell_type": "markdown",
   "id": "c21937f3-f193-42ac-8793-9fd673a70e91",
   "metadata": {},
   "source": [
    "### Creating the Closed Pipe Network"
   ]
  },
  {
   "cell_type": "code",
   "execution_count": 10,
   "id": "c4ac4840-9608-411a-a411-b15a9b479c66",
   "metadata": {},
   "outputs": [],
   "source": [
    "pipe_network = PipeNetwork.create(\n",
    "    ID='heating_system',\n",
    "    fluid=heating_water,\n",
    "    wall_roughness=Q_(0.0015, 'mm'),\n",
    "    schedule=None,\n",
    "    start_node_ID='S0',\n",
    "    end_node_ID='R0'\n",
    ")"
   ]
  },
  {
   "cell_type": "markdown",
   "id": "c42468dc-87ff-4d01-91f9-5419fc02883e",
   "metadata": {},
   "source": [
    "A pipe network is created by calling the class method `create` of the `PipeNetwork` class. The code block above shows which parameters the method needs to create a closed pipe network. A closed pipe network is a network that has a start node, where all fluid enters the network, and that has only one end node, where all fluid leaves the network. (It is also possible to configure an open pipe network, which has multiple end nodes, e.g. a drinking water distrubution system, which will be demonstrated in a subsequent notebook).\n",
    "\n",
    "Through parameter `wall_roughness` the absolute pipe wall roughness of all pipes in the network is set. If not all pipes in the network have the same absolute roughness, you can add a column *wall_roughness* to the pipe network configuration file and then set the parameter `wall_roughness` in the call to method `create` to `None`.\n",
    "\n",
    "The parameter `schedule` has been set to `None`, as not all pipes in the network belong to the same schedule."
   ]
  },
  {
   "cell_type": "markdown",
   "id": "f5105d7b-74f1-4910-87c3-9ae1a1ce0232",
   "metadata": {},
   "source": [
    "### Setting Units"
   ]
  },
  {
   "cell_type": "markdown",
   "id": "27f4a15b-e6de-4f3d-96bb-745d32ba574f",
   "metadata": {},
   "source": [
    "Before moving on, we must make sure that the program will do the calculations with the units we had in mind when we wrote the pipe network configuration file. Units can be set through the attribute `units` of the `PipeNetwork` instance we've just created. Units can be assigned to the following quantities:\n",
    "\n",
    "| quantity | keyword | default unit |\n",
    "|----------|---------|--------------|\n",
    "| pipe length | 'length' | 'm' |\n",
    "| diameter    | 'diameter' | 'mm' |\n",
    "| width (duct) | 'dim_width' | 'mm' |\n",
    "| height (duct) | 'dim_height' | 'mm' |\n",
    "| volume flow rate | 'volume_flow_rate' | 'm ** 3 / s' |\n",
    "| flow velocity | 'velocity' | 'm / s' |\n",
    "| pressure (difference) | 'pressure' | 'Pa' |\n",
    "| specific pressure drop | 'specific_pressure' | 'Pa / m' |\n",
    "| pressure head | 'pressure_head | 'Pa' |\n",
    "| altitude (elevation) | 'height' | 'm' |\n",
    "| absolute pipe wall roughness | 'wall_roughness' | 'mm' |\n",
    "| pump or fan coefficients | 'machine_coefficients' | ['Pa', 'Pa / (m ** 3 / s)', 'Pa / (m ** 3 / s) ** 2'] |\n",
    "\n",
    "In our example volume flow rate is expressed in units of L/s, and specific pressure drop in units of kPa/m. Furthermore, we want pressures and pressure differences be expressed in units of kPa."
   ]
  },
  {
   "cell_type": "code",
   "execution_count": 11,
   "id": "a01c8286-0252-4d53-a6d1-f9ceedbc8f00",
   "metadata": {},
   "outputs": [],
   "source": [
    "pipe_network.units['volume_flow_rate'] = 'L / s'\n",
    "pipe_network.units['pressure'] = 'kPa'\n",
    "pipe_network.units['specific_pressure'] = 'kPa / m'"
   ]
  },
  {
   "cell_type": "markdown",
   "id": "9ed885d9-0b9b-4fb0-b39e-72174a13e5b0",
   "metadata": {},
   "source": [
    "### Load the Pipe Network Configuration File into the `PipeNetwork` Instance"
   ]
  },
  {
   "cell_type": "code",
   "execution_count": 12,
   "id": "6a8fecf9-5b94-4a40-9060-790de3f9a70a",
   "metadata": {},
   "outputs": [],
   "source": [
    "pipe_network.load_from_csv('./networks/ex1_closed-pipe-network-design.csv')"
   ]
  },
  {
   "cell_type": "markdown",
   "id": "3d568b72-06ce-4470-9788-f665a29087bc",
   "metadata": {},
   "source": [
    "When the method `load_from_csv` is called, the program will immediately calculate the required diameter of each pipe. We can get an overview of the pipes in the network by calling the method `get_pipe_table`, which returns a Pandas `DataFrame` object."
   ]
  },
  {
   "cell_type": "code",
   "execution_count": 13,
   "id": "d7a4ecda-f8b0-4ac3-b1a2-ca51b788ab62",
   "metadata": {},
   "outputs": [
    {
     "data": {
      "text/html": [
       "<div class=\"my_table\"><table border=\"1\" class=\"dataframe\">\n",
       "  <thead>\n",
       "    <tr style=\"text-align: right;\">\n",
       "      <th></th>\n",
       "      <th>pipe ID</th>\n",
       "      <th>L [m]</th>\n",
       "      <th>DN [mm]</th>\n",
       "      <th>Di [mm]</th>\n",
       "      <th>V [l/s]</th>\n",
       "      <th>v [m/s]</th>\n",
       "      <th>zeta</th>\n",
       "      <th>Re</th>\n",
       "      <th>Δp-dyn. [kPa]</th>\n",
       "    </tr>\n",
       "  </thead>\n",
       "  <tbody>\n",
       "    <tr>\n",
       "      <th>0</th>\n",
       "      <td>P1</td>\n",
       "      <td>4.0</td>\n",
       "      <td>35.0</td>\n",
       "      <td>32.0</td>\n",
       "      <td>0.458</td>\n",
       "      <td>0.569476</td>\n",
       "      <td>0</td>\n",
       "      <td>32945.645835</td>\n",
       "      <td>0.462787</td>\n",
       "    </tr>\n",
       "    <tr>\n",
       "      <th>1</th>\n",
       "      <td>P2</td>\n",
       "      <td>2.0</td>\n",
       "      <td>28.0</td>\n",
       "      <td>25.0</td>\n",
       "      <td>0.397</td>\n",
       "      <td>0.808762</td>\n",
       "      <td>0</td>\n",
       "      <td>36553.841457</td>\n",
       "      <td>0.584486</td>\n",
       "    </tr>\n",
       "    <tr>\n",
       "      <th>2</th>\n",
       "      <td>P3</td>\n",
       "      <td>2.0</td>\n",
       "      <td>22.0</td>\n",
       "      <td>20.0</td>\n",
       "      <td>0.214</td>\n",
       "      <td>0.681183</td>\n",
       "      <td>0</td>\n",
       "      <td>24630.107279</td>\n",
       "      <td>0.568306</td>\n",
       "    </tr>\n",
       "    <tr>\n",
       "      <th>3</th>\n",
       "      <td>P4</td>\n",
       "      <td>2.0</td>\n",
       "      <td>18.0</td>\n",
       "      <td>16.0</td>\n",
       "      <td>0.122</td>\n",
       "      <td>0.606778</td>\n",
       "      <td>0</td>\n",
       "      <td>17551.828785</td>\n",
       "      <td>0.612130</td>\n",
       "    </tr>\n",
       "    <tr>\n",
       "      <th>4</th>\n",
       "      <td>P5</td>\n",
       "      <td>25.0</td>\n",
       "      <td>18.0</td>\n",
       "      <td>14.0</td>\n",
       "      <td>0.061</td>\n",
       "      <td>0.396263</td>\n",
       "      <td>0</td>\n",
       "      <td>10029.616449</td>\n",
       "      <td>4.297709</td>\n",
       "    </tr>\n",
       "    <tr>\n",
       "      <th>5</th>\n",
       "      <td>P6</td>\n",
       "      <td>25.0</td>\n",
       "      <td>26.0</td>\n",
       "      <td>20.0</td>\n",
       "      <td>0.183</td>\n",
       "      <td>0.582507</td>\n",
       "      <td>0</td>\n",
       "      <td>21062.194542</td>\n",
       "      <td>5.390640</td>\n",
       "    </tr>\n",
       "    <tr>\n",
       "      <th>6</th>\n",
       "      <td>P7</td>\n",
       "      <td>15.0</td>\n",
       "      <td>20.0</td>\n",
       "      <td>16.0</td>\n",
       "      <td>0.092</td>\n",
       "      <td>0.457570</td>\n",
       "      <td>0</td>\n",
       "      <td>13235.805313</td>\n",
       "      <td>2.799807</td>\n",
       "    </tr>\n",
       "    <tr>\n",
       "      <th>7</th>\n",
       "      <td>P8</td>\n",
       "      <td>20.0</td>\n",
       "      <td>20.0</td>\n",
       "      <td>16.0</td>\n",
       "      <td>0.122</td>\n",
       "      <td>0.606778</td>\n",
       "      <td>0</td>\n",
       "      <td>17551.828785</td>\n",
       "      <td>6.121301</td>\n",
       "    </tr>\n",
       "    <tr>\n",
       "      <th>8</th>\n",
       "      <td>P9</td>\n",
       "      <td>2.0</td>\n",
       "      <td>18.0</td>\n",
       "      <td>16.0</td>\n",
       "      <td>0.122</td>\n",
       "      <td>0.606778</td>\n",
       "      <td>0</td>\n",
       "      <td>17551.828785</td>\n",
       "      <td>0.612130</td>\n",
       "    </tr>\n",
       "    <tr>\n",
       "      <th>9</th>\n",
       "      <td>P10</td>\n",
       "      <td>2.0</td>\n",
       "      <td>22.0</td>\n",
       "      <td>20.0</td>\n",
       "      <td>0.214</td>\n",
       "      <td>0.681183</td>\n",
       "      <td>0</td>\n",
       "      <td>24630.107279</td>\n",
       "      <td>0.568306</td>\n",
       "    </tr>\n",
       "    <tr>\n",
       "      <th>10</th>\n",
       "      <td>P11</td>\n",
       "      <td>2.0</td>\n",
       "      <td>28.0</td>\n",
       "      <td>25.0</td>\n",
       "      <td>0.397</td>\n",
       "      <td>0.808762</td>\n",
       "      <td>0</td>\n",
       "      <td>36553.841457</td>\n",
       "      <td>0.584486</td>\n",
       "    </tr>\n",
       "    <tr>\n",
       "      <th>11</th>\n",
       "      <td>P12</td>\n",
       "      <td>4.0</td>\n",
       "      <td>35.0</td>\n",
       "      <td>32.0</td>\n",
       "      <td>0.458</td>\n",
       "      <td>0.569476</td>\n",
       "      <td>0</td>\n",
       "      <td>32945.645835</td>\n",
       "      <td>0.462787</td>\n",
       "    </tr>\n",
       "  </tbody>\n",
       "</table></div>"
      ],
      "text/plain": [
       "<IPython.core.display.HTML object>"
      ]
     },
     "metadata": {},
     "output_type": "display_data"
    }
   ],
   "source": [
    "ja.display_table(pipe_network.get_pipe_table())"
   ]
  },
  {
   "cell_type": "markdown",
   "id": "c7ffc2cd-b5fe-45ea-b6d9-9657cd50c395",
   "metadata": {},
   "source": [
    "## Add Fittings to the Pipe Network"
   ]
  },
  {
   "cell_type": "markdown",
   "id": "679c8472-56be-46c3-927a-c4dd77cb1d9d",
   "metadata": {},
   "source": [
    "After all the pipe diameters in the network are calculated, we can add fittings to these pipes. To add fittings to a pipe we need to import the module `hvac.fluid_flow.fittings.pipe`:"
   ]
  },
  {
   "cell_type": "code",
   "execution_count": 14,
   "id": "94bbe741-26fa-447e-9b75-b959df0b6329",
   "metadata": {},
   "outputs": [],
   "source": [
    "from hvac.fluid_flow.fittings import pipe as pipe_fittings"
   ]
  },
  {
   "cell_type": "markdown",
   "id": "cff685db-e06c-431c-bd35-6fe26ac6286e",
   "metadata": {},
   "source": [
    "### Tees"
   ]
  },
  {
   "cell_type": "markdown",
   "id": "557c3683-aa7c-4d18-b077-67ae4f4d859f",
   "metadata": {},
   "source": [
    "For a number of pipe fittings and valves the resistance coefficient can be calculated according to the formulas in the well-known technical guide TP-410M published by Crane. These fittings and valves are located in the module `crane.py` of the above mentioned package. In the following we will add tees at the nodes of the cross-overs in the network. On the supply side of the network (with the 'S*x*' labeled nodes in the scheme above) the fluid flow at the nodes is diverging, while on the return side of the network (with the 'R*x*' labeled nodes) the fluid flow is converging. The 'combined pipe' of a tee is the pipe in which the fluid flow is greatest (i.e. the sum of the flow that will go through the branch and the flow that will continue in the straight leg). To create a tee for node S1, the following code will do:"
   ]
  },
  {
   "cell_type": "code",
   "execution_count": 15,
   "id": "ba7d705a-2cd9-4eab-9394-ad1793c29db8",
   "metadata": {},
   "outputs": [],
   "source": [
    "tee_S1 = pipe_fittings.Tee(\n",
    "    flow_pattern='diverging',\n",
    "    combined_pipe=pipe_network.conduits['P1'],\n",
    "    branch_pipe=pipe_network.conduits['P5'],\n",
    "    ID='TEE-S1'\n",
    ")"
   ]
  },
  {
   "cell_type": "markdown",
   "id": "d42b3d49-88b7-4ab5-a12a-1b1bdd3d793e",
   "metadata": {},
   "source": [
    "We can access the pipes in the network through the attribute `conduits`, which is a dictionary of which the keys are the ID's we gave to our pipes in the configuration file. After a tee has been created, we still need to assign the resistance coefficient of the tee to the pipes. In the case of a tee fitting we have two resistance coefficients: one in the combined leg (`zeta_c`) and one in the branch leg (`zeta_b`)."
   ]
  },
  {
   "cell_type": "code",
   "execution_count": 16,
   "id": "c21a0f0f-d173-4bd3-875d-8fa9df969603",
   "metadata": {},
   "outputs": [],
   "source": [
    "pipe_network.conduits['P1'].add_fitting(tee_S1.zeta_c, tee_S1.ID)\n",
    "pipe_network.conduits['P5'].add_fitting(tee_S1.zeta_b, tee_S1.ID)"
   ]
  },
  {
   "cell_type": "markdown",
   "id": "bafad9c4-4b1f-407f-a9e8-32715e4009c9",
   "metadata": {},
   "source": [
    "In the same way we also add diverging tees to nodes S2 and S3 and converging tees to nodes R1, R2, and R3. "
   ]
  },
  {
   "cell_type": "code",
   "execution_count": 17,
   "id": "15ac83df-10ee-4e94-a672-2576c59ea844",
   "metadata": {},
   "outputs": [],
   "source": [
    "tee_S2 = pipe_fittings.Tee(\n",
    "    flow_pattern='diverging',\n",
    "    combined_pipe=pipe_network.conduits['P2'],\n",
    "    branch_pipe=pipe_network.conduits['P6'],\n",
    "    ID='TEE-S2'\n",
    ")\n",
    "pipe_network.conduits['P2'].add_fitting(tee_S2.zeta_c, tee_S2.ID)\n",
    "pipe_network.conduits['P6'].add_fitting(tee_S2.zeta_b, tee_S2.ID)\n",
    "\n",
    "tee_S3 = pipe_fittings.Tee(\n",
    "    flow_pattern='diverging',\n",
    "    combined_pipe=pipe_network.conduits['P3'],\n",
    "    branch_pipe=pipe_network.conduits['P7'],\n",
    "    ID='TEE-S3'\n",
    ")\n",
    "pipe_network.conduits['P3'].add_fitting(tee_S3.zeta_c, tee_S3.ID)\n",
    "pipe_network.conduits['P7'].add_fitting(tee_S3.zeta_b, tee_S3.ID)\n",
    "\n",
    "tee_R1 = pipe_fittings.Tee(\n",
    "    flow_pattern='converging',\n",
    "    combined_pipe=pipe_network.conduits['P12'],\n",
    "    branch_pipe=pipe_network.conduits['P5'],\n",
    "    ID='TEE-R1'\n",
    ")\n",
    "pipe_network.conduits['P12'].add_fitting(tee_R1.zeta_c, tee_R1.ID)\n",
    "pipe_network.conduits['P5'].add_fitting(tee_R1.zeta_b, tee_R1.ID)\n",
    "\n",
    "tee_R2 = pipe_fittings.Tee(\n",
    "    flow_pattern='converging',\n",
    "    combined_pipe=pipe_network.conduits['P11'],\n",
    "    branch_pipe=pipe_network.conduits['P6'],\n",
    "    ID='TEE-R2'\n",
    ")\n",
    "pipe_network.conduits['P11'].add_fitting(tee_R2.zeta_c, tee_R2.ID)\n",
    "pipe_network.conduits['P6'].add_fitting(tee_R2.zeta_b, tee_R2.ID)\n",
    "\n",
    "tee_R3 = pipe_fittings.Tee(\n",
    "    flow_pattern='converging',\n",
    "    combined_pipe=pipe_network.conduits['P10'],\n",
    "    branch_pipe=pipe_network.conduits['P7'],\n",
    "    ID='TEE-R3'\n",
    ")\n",
    "pipe_network.conduits['P10'].add_fitting(tee_R3.zeta_c, tee_R3.ID)\n",
    "pipe_network.conduits['P7'].add_fitting(tee_R3.zeta_b, tee_R3.ID)"
   ]
  },
  {
   "cell_type": "markdown",
   "id": "a6b7dc6a-1d46-4e02-99aa-25404d8b9981",
   "metadata": {},
   "source": [
    "### Reducers and Enlargers"
   ]
  },
  {
   "cell_type": "markdown",
   "id": "f7b1a196-fbd3-4ed5-bd29-ff9c81787a84",
   "metadata": {},
   "source": [
    "On the supply side the diameter of pipe P1 is larger than the diameter of pipe P2, the diameter of pipe P2 is larger than the diameter of pipe P3, and the diameter of pipe P3 is larger than the diameter of pipe P4. On the return side the reverse is true. Therefore, we will add reducers on the supply side and enlargers on the return side. Reducers will be placed at the beginning of the smallest pipe (notice the use of `zeta_small`, i.e. the resistance coefficient of the reducer referenced to the pipe with the smaller diameter), while enlargers will be placed at the beginning of the largest pipe (notice the use of `zeta_large`). Parameter `L` is the length of the reducer or enlarger."
   ]
  },
  {
   "cell_type": "code",
   "execution_count": 18,
   "id": "3493037e-8ce9-44d1-bfef-f9ecb34ad437",
   "metadata": {},
   "outputs": [],
   "source": [
    "reducer_S1 = pipe_fittings.Reducer(\n",
    "    large_pipe=pipe_network.conduits['P1'],\n",
    "    small_pipe=pipe_network.conduits['P2'],\n",
    "    L=Q_(5.0, 'cm'),\n",
    "    ID='RED-S1'\n",
    ")\n",
    "pipe_network.conduits['P2'].add_fitting(reducer_S1.zeta_small, reducer_S1.ID)\n",
    "\n",
    "reducer_S2 = pipe_fittings.Reducer(\n",
    "    large_pipe=pipe_network.conduits['P2'],\n",
    "    small_pipe=pipe_network.conduits['P3'],\n",
    "    L=Q_(5.0, 'cm'),\n",
    "    ID='RED-S2'\n",
    ")\n",
    "pipe_network.conduits['P3'].add_fitting(reducer_S2.zeta_small, reducer_S2.ID)\n",
    "\n",
    "reducer_S3 = pipe_fittings.Reducer(\n",
    "    large_pipe=pipe_network.conduits['P3'],\n",
    "    small_pipe=pipe_network.conduits['P4'],\n",
    "    L=Q_(5.0, 'cm'),\n",
    "    ID='RED-S3'\n",
    ")\n",
    "pipe_network.conduits['P4'].add_fitting(reducer_S3.zeta_small, reducer_S3.ID)\n",
    "\n",
    "enlarger_R1 = pipe_fittings.Enlarger(\n",
    "    large_pipe=pipe_network.conduits['P12'],\n",
    "    small_pipe=pipe_network.conduits['P11'],\n",
    "    L=Q_(5.0, 'cm'),\n",
    "    ID='ENL-R1'\n",
    ")\n",
    "pipe_network.conduits['P12'].add_fitting(enlarger_R1.zeta_large, enlarger_R1.ID)\n",
    "\n",
    "enlarger_R2 = pipe_fittings.Enlarger(\n",
    "    large_pipe=pipe_network.conduits['P11'],\n",
    "    small_pipe=pipe_network.conduits['P10'],\n",
    "    L=Q_(5.0, 'cm'),\n",
    "    ID='ENL-R2'\n",
    ")\n",
    "pipe_network.conduits['P11'].add_fitting(enlarger_R2.zeta_large, enlarger_R2.ID)\n",
    "\n",
    "enlarger_R3 = pipe_fittings.Enlarger(\n",
    "    large_pipe=pipe_network.conduits['P10'],\n",
    "    small_pipe=pipe_network.conduits['P9'],\n",
    "    L=Q_(5.0, 'cm'),\n",
    "    ID='ENL-R3'\n",
    ")\n",
    "pipe_network.conduits['P10'].add_fitting(enlarger_R3.zeta_large, enlarger_R3.ID)"
   ]
  },
  {
   "cell_type": "markdown",
   "id": "7feaaefd-d98b-4d86-a232-715b8de4b84d",
   "metadata": {},
   "source": [
    "### Elbows"
   ]
  },
  {
   "cell_type": "markdown",
   "id": "6f3fb6d8-c98d-4f01-a08c-a518ce4b811c",
   "metadata": {},
   "source": [
    "In the nodes S4 and R4 we will add elbows. Elbows don't have a dedicated class. You need to use the general `PipeFitting` class. A pipe fitting can be characterized in a number of ways:\n",
    "- using a flow coefficient *K<sub>v</sub>*, which is usually applicable to valves\n",
    "- using the 3K-method, which implies that a fitting is characterized by three different resistance coefficients: *zeta*, *zeta_d* and *zeta_inf*\n",
    "- using Crane's *equivalent length ratio* (*ELR*); see Crane TP-410M\n",
    "- using a single resistance coefficient *zeta* specified in a fittings catalog\n",
    "\n",
    "Any of these possibilities can be used to create a `PipeFitting` instance (you can take a look at the source code in the module `hvac.fluid_flow.fittings.pipe.general`). For this example we use the ELR from Crane TP-410M."
   ]
  },
  {
   "cell_type": "code",
   "execution_count": 19,
   "id": "97eac7f4-2f5a-4e21-9c5a-e2a5fd42b3ed",
   "metadata": {},
   "outputs": [],
   "source": [
    "elbow_S4 = pipe_fittings.PipeFitting(\n",
    "    pipe=pipe_network.conduits['P4'],\n",
    "    ID='ELBOW-S4',\n",
    "    ELR=30\n",
    ")\n",
    "pipe_network.conduits['P4'].add_fitting(elbow_S4.zeta, elbow_S4.ID)\n",
    "\n",
    "elbow_R4 = pipe_fittings.PipeFitting(\n",
    "    pipe=pipe_network.conduits['P9'],\n",
    "    ID='ELBOW-R4',\n",
    "    ELR=30\n",
    ")\n",
    "pipe_network.conduits['P9'].add_fitting(elbow_R4.zeta, elbow_R4.ID)"
   ]
  },
  {
   "cell_type": "markdown",
   "id": "d8340a2e-6070-40cd-990f-f2035ebf8cfc",
   "metadata": {},
   "source": [
    "## Pipes, Fittings and Flow Paths Overview"
   ]
  },
  {
   "cell_type": "markdown",
   "id": "54c78381-2eae-4f1a-930e-b9360daf0c49",
   "metadata": {},
   "source": [
    "### Pipes"
   ]
  },
  {
   "cell_type": "code",
   "execution_count": 20,
   "id": "0c72126e-34b8-4d2b-a9b5-38ecd6cad422",
   "metadata": {},
   "outputs": [
    {
     "data": {
      "text/html": [
       "<div class=\"my_table\"><table border=\"1\" class=\"dataframe\">\n",
       "  <thead>\n",
       "    <tr style=\"text-align: right;\">\n",
       "      <th></th>\n",
       "      <th>pipe ID</th>\n",
       "      <th>L [m]</th>\n",
       "      <th>DN [mm]</th>\n",
       "      <th>Di [mm]</th>\n",
       "      <th>V [l/s]</th>\n",
       "      <th>v [m/s]</th>\n",
       "      <th>zeta</th>\n",
       "      <th>Re</th>\n",
       "      <th>Δp-dyn. [kPa]</th>\n",
       "    </tr>\n",
       "  </thead>\n",
       "  <tbody>\n",
       "    <tr>\n",
       "      <th>0</th>\n",
       "      <td>P1</td>\n",
       "      <td>4.0</td>\n",
       "      <td>35.0</td>\n",
       "      <td>32.0</td>\n",
       "      <td>0.458</td>\n",
       "      <td>0.569476</td>\n",
       "      <td>0.007096</td>\n",
       "      <td>32945.645835</td>\n",
       "      <td>0.463923</td>\n",
       "    </tr>\n",
       "    <tr>\n",
       "      <th>1</th>\n",
       "      <td>P2</td>\n",
       "      <td>2.0</td>\n",
       "      <td>28.0</td>\n",
       "      <td>25.0</td>\n",
       "      <td>0.397</td>\n",
       "      <td>0.808762</td>\n",
       "      <td>-0.011416</td>\n",
       "      <td>36553.841457</td>\n",
       "      <td>0.580797</td>\n",
       "    </tr>\n",
       "    <tr>\n",
       "      <th>2</th>\n",
       "      <td>P3</td>\n",
       "      <td>2.0</td>\n",
       "      <td>22.0</td>\n",
       "      <td>20.0</td>\n",
       "      <td>0.214</td>\n",
       "      <td>0.681183</td>\n",
       "      <td>-0.037437</td>\n",
       "      <td>24630.107279</td>\n",
       "      <td>0.559724</td>\n",
       "    </tr>\n",
       "    <tr>\n",
       "      <th>3</th>\n",
       "      <td>P4</td>\n",
       "      <td>2.0</td>\n",
       "      <td>18.0</td>\n",
       "      <td>16.0</td>\n",
       "      <td>0.122</td>\n",
       "      <td>0.606778</td>\n",
       "      <td>0.096462</td>\n",
       "      <td>17551.828785</td>\n",
       "      <td>0.629676</td>\n",
       "    </tr>\n",
       "    <tr>\n",
       "      <th>4</th>\n",
       "      <td>P5</td>\n",
       "      <td>25.0</td>\n",
       "      <td>18.0</td>\n",
       "      <td>14.0</td>\n",
       "      <td>0.061</td>\n",
       "      <td>0.396263</td>\n",
       "      <td>15.814630</td>\n",
       "      <td>10029.616449</td>\n",
       "      <td>5.524549</td>\n",
       "    </tr>\n",
       "    <tr>\n",
       "      <th>5</th>\n",
       "      <td>P6</td>\n",
       "      <td>25.0</td>\n",
       "      <td>26.0</td>\n",
       "      <td>20.0</td>\n",
       "      <td>0.183</td>\n",
       "      <td>0.582507</td>\n",
       "      <td>5.255931</td>\n",
       "      <td>21062.194542</td>\n",
       "      <td>6.271716</td>\n",
       "    </tr>\n",
       "    <tr>\n",
       "      <th>6</th>\n",
       "      <td>P7</td>\n",
       "      <td>15.0</td>\n",
       "      <td>20.0</td>\n",
       "      <td>16.0</td>\n",
       "      <td>0.092</td>\n",
       "      <td>0.457570</td>\n",
       "      <td>5.675522</td>\n",
       "      <td>13235.805313</td>\n",
       "      <td>3.386868</td>\n",
       "    </tr>\n",
       "    <tr>\n",
       "      <th>7</th>\n",
       "      <td>P8</td>\n",
       "      <td>20.0</td>\n",
       "      <td>20.0</td>\n",
       "      <td>16.0</td>\n",
       "      <td>0.122</td>\n",
       "      <td>0.606778</td>\n",
       "      <td>0.000000</td>\n",
       "      <td>17551.828785</td>\n",
       "      <td>6.121301</td>\n",
       "    </tr>\n",
       "    <tr>\n",
       "      <th>8</th>\n",
       "      <td>P9</td>\n",
       "      <td>2.0</td>\n",
       "      <td>18.0</td>\n",
       "      <td>16.0</td>\n",
       "      <td>0.122</td>\n",
       "      <td>0.606778</td>\n",
       "      <td>0.084951</td>\n",
       "      <td>17551.828785</td>\n",
       "      <td>0.627582</td>\n",
       "    </tr>\n",
       "    <tr>\n",
       "      <th>9</th>\n",
       "      <td>P10</td>\n",
       "      <td>2.0</td>\n",
       "      <td>22.0</td>\n",
       "      <td>20.0</td>\n",
       "      <td>0.214</td>\n",
       "      <td>0.681183</td>\n",
       "      <td>0.514415</td>\n",
       "      <td>24630.107279</td>\n",
       "      <td>0.686230</td>\n",
       "    </tr>\n",
       "    <tr>\n",
       "      <th>10</th>\n",
       "      <td>P11</td>\n",
       "      <td>2.0</td>\n",
       "      <td>28.0</td>\n",
       "      <td>25.0</td>\n",
       "      <td>0.397</td>\n",
       "      <td>0.808762</td>\n",
       "      <td>0.543084</td>\n",
       "      <td>36553.841457</td>\n",
       "      <td>0.759983</td>\n",
       "    </tr>\n",
       "    <tr>\n",
       "      <th>11</th>\n",
       "      <td>P12</td>\n",
       "      <td>4.0</td>\n",
       "      <td>35.0</td>\n",
       "      <td>32.0</td>\n",
       "      <td>0.458</td>\n",
       "      <td>0.569476</td>\n",
       "      <td>0.262696</td>\n",
       "      <td>32945.645835</td>\n",
       "      <td>0.504875</td>\n",
       "    </tr>\n",
       "  </tbody>\n",
       "</table></div>"
      ],
      "text/plain": [
       "<IPython.core.display.HTML object>"
      ]
     },
     "metadata": {},
     "output_type": "display_data"
    }
   ],
   "source": [
    "ja.display_table(pipe_network.get_pipe_table())"
   ]
  },
  {
   "cell_type": "markdown",
   "id": "0894a425-7262-429e-b33c-d48f33e3d4c5",
   "metadata": {},
   "source": [
    "### Fittings"
   ]
  },
  {
   "cell_type": "code",
   "execution_count": 21,
   "id": "ebed2a44-9235-4fec-bf8b-d849e0dd88b4",
   "metadata": {},
   "outputs": [
    {
     "data": {
      "text/html": [
       "<div class=\"my_table\"><table border=\"1\" class=\"dataframe\">\n",
       "  <thead>\n",
       "    <tr style=\"text-align: right;\">\n",
       "      <th></th>\n",
       "      <th>conduit ID</th>\n",
       "      <th>fitting ID</th>\n",
       "      <th>zeta</th>\n",
       "      <th>pressure drop [kPa]</th>\n",
       "    </tr>\n",
       "  </thead>\n",
       "  <tbody>\n",
       "    <tr>\n",
       "      <th>0</th>\n",
       "      <td>P1</td>\n",
       "      <td>TEE-S1</td>\n",
       "      <td>0.007096</td>\n",
       "      <td>0.001137</td>\n",
       "    </tr>\n",
       "    <tr>\n",
       "      <th>1</th>\n",
       "      <td>P2</td>\n",
       "      <td>TEE-S2</td>\n",
       "      <td>-0.033184</td>\n",
       "      <td>-0.010723</td>\n",
       "    </tr>\n",
       "    <tr>\n",
       "      <th>2</th>\n",
       "      <td>P2</td>\n",
       "      <td>RED-S1</td>\n",
       "      <td>0.021767</td>\n",
       "      <td>0.007034</td>\n",
       "    </tr>\n",
       "    <tr>\n",
       "      <th>3</th>\n",
       "      <td>P3</td>\n",
       "      <td>TEE-S3</td>\n",
       "      <td>-0.051819</td>\n",
       "      <td>-0.011879</td>\n",
       "    </tr>\n",
       "    <tr>\n",
       "      <th>4</th>\n",
       "      <td>P3</td>\n",
       "      <td>RED-S2</td>\n",
       "      <td>0.014382</td>\n",
       "      <td>0.003297</td>\n",
       "    </tr>\n",
       "    <tr>\n",
       "      <th>5</th>\n",
       "      <td>P4</td>\n",
       "      <td>RED-S3</td>\n",
       "      <td>0.011511</td>\n",
       "      <td>0.002094</td>\n",
       "    </tr>\n",
       "    <tr>\n",
       "      <th>6</th>\n",
       "      <td>P4</td>\n",
       "      <td>ELBOW-S4</td>\n",
       "      <td>0.084951</td>\n",
       "      <td>0.015452</td>\n",
       "    </tr>\n",
       "    <tr>\n",
       "      <th>7</th>\n",
       "      <td>P5</td>\n",
       "      <td>TEE-S1</td>\n",
       "      <td>16.014638</td>\n",
       "      <td>1.242356</td>\n",
       "    </tr>\n",
       "    <tr>\n",
       "      <th>8</th>\n",
       "      <td>P5</td>\n",
       "      <td>TEE-R1</td>\n",
       "      <td>-0.200008</td>\n",
       "      <td>-0.015516</td>\n",
       "    </tr>\n",
       "    <tr>\n",
       "      <th>9</th>\n",
       "      <td>P6</td>\n",
       "      <td>TEE-S2</td>\n",
       "      <td>3.702657</td>\n",
       "      <td>0.620693</td>\n",
       "    </tr>\n",
       "    <tr>\n",
       "      <th>10</th>\n",
       "      <td>P6</td>\n",
       "      <td>TEE-R2</td>\n",
       "      <td>1.553274</td>\n",
       "      <td>0.260382</td>\n",
       "    </tr>\n",
       "    <tr>\n",
       "      <th>11</th>\n",
       "      <td>P7</td>\n",
       "      <td>TEE-S3</td>\n",
       "      <td>4.149576</td>\n",
       "      <td>0.429221</td>\n",
       "    </tr>\n",
       "    <tr>\n",
       "      <th>12</th>\n",
       "      <td>P7</td>\n",
       "      <td>TEE-R3</td>\n",
       "      <td>1.525946</td>\n",
       "      <td>0.157840</td>\n",
       "    </tr>\n",
       "    <tr>\n",
       "      <th>13</th>\n",
       "      <td>P9</td>\n",
       "      <td>ELBOW-R4</td>\n",
       "      <td>0.084951</td>\n",
       "      <td>0.015452</td>\n",
       "    </tr>\n",
       "    <tr>\n",
       "      <th>14</th>\n",
       "      <td>P10</td>\n",
       "      <td>TEE-R3</td>\n",
       "      <td>0.481536</td>\n",
       "      <td>0.110387</td>\n",
       "    </tr>\n",
       "    <tr>\n",
       "      <th>15</th>\n",
       "      <td>P10</td>\n",
       "      <td>ENL-R3</td>\n",
       "      <td>0.032880</td>\n",
       "      <td>0.007537</td>\n",
       "    </tr>\n",
       "    <tr>\n",
       "      <th>16</th>\n",
       "      <td>P11</td>\n",
       "      <td>TEE-R2</td>\n",
       "      <td>0.502002</td>\n",
       "      <td>0.162221</td>\n",
       "    </tr>\n",
       "    <tr>\n",
       "      <th>17</th>\n",
       "      <td>P11</td>\n",
       "      <td>ENL-R2</td>\n",
       "      <td>0.041081</td>\n",
       "      <td>0.013275</td>\n",
       "    </tr>\n",
       "    <tr>\n",
       "      <th>18</th>\n",
       "      <td>P12</td>\n",
       "      <td>TEE-R1</td>\n",
       "      <td>0.188702</td>\n",
       "      <td>0.030234</td>\n",
       "    </tr>\n",
       "    <tr>\n",
       "      <th>19</th>\n",
       "      <td>P12</td>\n",
       "      <td>ENL-R1</td>\n",
       "      <td>0.073994</td>\n",
       "      <td>0.011855</td>\n",
       "    </tr>\n",
       "  </tbody>\n",
       "</table></div>"
      ],
      "text/plain": [
       "<IPython.core.display.HTML object>"
      ]
     },
     "metadata": {},
     "output_type": "display_data"
    }
   ],
   "source": [
    "ja.display_table(pipe_network.get_fitting_table())"
   ]
  },
  {
   "cell_type": "markdown",
   "id": "8b1a8d9c-1ffb-46b7-8937-67d25c70cf1b",
   "metadata": {},
   "source": [
    "### Flow Paths"
   ]
  },
  {
   "cell_type": "code",
   "execution_count": 22,
   "id": "08f692b6-a11f-4540-be2f-88bd1d33f2f9",
   "metadata": {},
   "outputs": [
    {
     "data": {
      "text/html": [
       "<div class=\"my_table\"><table border=\"1\" class=\"dataframe\">\n",
       "  <thead>\n",
       "    <tr style=\"text-align: right;\">\n",
       "      <th></th>\n",
       "      <th>path</th>\n",
       "      <th>Δp-elev. [kPa]</th>\n",
       "      <th>Δp-dyn. [kPa]</th>\n",
       "      <th>Δp-tot. [kPa]</th>\n",
       "      <th>Δp-deficit [kPa]</th>\n",
       "    </tr>\n",
       "  </thead>\n",
       "  <tbody>\n",
       "    <tr>\n",
       "      <th>0</th>\n",
       "      <td>P1|P2|P3|P4|P8|P9|P10|P11|P12</td>\n",
       "      <td>0.0</td>\n",
       "      <td>10.934091</td>\n",
       "      <td>10.934091</td>\n",
       "      <td>0.000000</td>\n",
       "    </tr>\n",
       "    <tr>\n",
       "      <th>1</th>\n",
       "      <td>P1|P5|P12</td>\n",
       "      <td>0.0</td>\n",
       "      <td>6.493348</td>\n",
       "      <td>6.493348</td>\n",
       "      <td>4.440743</td>\n",
       "    </tr>\n",
       "    <tr>\n",
       "      <th>2</th>\n",
       "      <td>P1|P2|P6|P11|P12</td>\n",
       "      <td>0.0</td>\n",
       "      <td>8.581294</td>\n",
       "      <td>8.581294</td>\n",
       "      <td>2.352797</td>\n",
       "    </tr>\n",
       "    <tr>\n",
       "      <th>3</th>\n",
       "      <td>P1|P2|P3|P7|P10|P11|P12</td>\n",
       "      <td>0.0</td>\n",
       "      <td>6.942400</td>\n",
       "      <td>6.942400</td>\n",
       "      <td>3.991691</td>\n",
       "    </tr>\n",
       "  </tbody>\n",
       "</table></div>"
      ],
      "text/plain": [
       "<IPython.core.display.HTML object>"
      ]
     },
     "metadata": {},
     "output_type": "display_data"
    }
   ],
   "source": [
    "ja.display_table(pipe_network.get_flow_path_table())"
   ]
  },
  {
   "cell_type": "markdown",
   "id": "344d880e-61e9-4b3d-8ab8-3219b9d6bad2",
   "metadata": {},
   "source": [
    "Calling method `get_flow_path_table` returns a Pandas `DataFrame` object with all the flow paths between the start and end node of the network. The first column *Δp-elev* refers to the gravity, stack or chimney effect, which is due to the difference in elevation between the start and end node of the network and due to the density difference between the fluid and the ambient air. In a closed hydronic network (closed loop) this term will always be zero. The second column *Δp-dyn* refers to the pressure loss due to pipe friction and dynamic effects in fittings and valves. The third column *Δp-tot* is the sum of the first two columns. The last column *Δp-deficit* refers to the difference in total pressure loss between the critical flow path (i.e. the path having the greatest pressure loss) and the other flow paths between the start and end node of the network. For the critical path this value will obviously be zero. In a perfectly balanced pipe network all flow paths will have a near zero pressure loss deficit."
   ]
  },
  {
   "cell_type": "markdown",
   "id": "b1201e9c-b0f0-47ef-a0e0-9080c3a258dd",
   "metadata": {},
   "source": [
    "## Add Balancing Valves to the Cross-Overs in the Network"
   ]
  },
  {
   "cell_type": "markdown",
   "id": "67179e90-967c-4216-9d20-6f131dea94d1",
   "metadata": {},
   "source": [
    "### Calculate Preliminary Flow Coefficients"
   ]
  },
  {
   "cell_type": "markdown",
   "id": "9e0b1ee9-8f98-48bd-91d8-fdf9b0eb6965",
   "metadata": {},
   "source": [
    "In a balanced network the total pressure loss along each flow path will be equal to the pressure loss along the critical path of the network, when the design flow rates flow in each pipe of the pipe network. In other words, *Δp-deficit* of each flow path should be close to zero. If that is the case, there will be no preferential flow paths in the network and the design flow rates will actually be flowing trough each pipe of the network.\n",
    "\n",
    "Balancing valves are placed in the cross-overs between the supply and the return side, so that flow paths have no balancing valves in common. First, a preliminary flow or valve coefficient is calculated, such that a certain presribed pressure drop will be present across the balancing valve, when it is fully open. Normally, a pressure drop of 3 kPa is selected."
   ]
  },
  {
   "cell_type": "code",
   "execution_count": 23,
   "id": "a9fc2677-51e9-46b5-9e5d-b5c3c3b93290",
   "metadata": {},
   "outputs": [
    {
     "data": {
      "text/html": [
       "<ul><li>balancing valve in cross-over P5: preliminary Kvs = 1.2608467334744375</li><li>balancing valve in cross-over P6: preliminary Kvs = 3.782540200423313</li><li>balancing valve in cross-over P7: preliminary Kvs = 1.9016049095024303</li><li>balancing valve in cross-over P8: preliminary Kvs = 2.521693466948875</li></ul>"
      ],
      "text/plain": [
       "<IPython.core.display.HTML object>"
      ]
     },
     "metadata": {},
     "output_type": "display_data"
    }
   ],
   "source": [
    "cross_over_IDs = ['P5', 'P6', 'P7', 'P8']\n",
    "\n",
    "Kvs_pre_list = [\n",
    "    pipe_network.add_balancing_valve(\n",
    "        cross_over_ID=cross_over_ID, \n",
    "        pressure_drop_full_open=Q_(3, 'kPa')\n",
    "    )\n",
    "    for cross_over_ID in cross_over_IDs\n",
    "]\n",
    "\n",
    "ja.display_list([\n",
    "    f\"balancing valve in cross-over {cross_over_ID}: preliminary Kvs = {Kvs_pre}\"\n",
    "    for cross_over_ID, Kvs_pre in zip(cross_over_IDs, Kvs_pre_list)]\n",
    ")"
   ]
  },
  {
   "cell_type": "markdown",
   "id": "be71bb99-08d5-423f-9102-08aba184bbc1",
   "metadata": {},
   "source": [
    "### Balancing Valve Selection"
   ]
  },
  {
   "cell_type": "markdown",
   "id": "a01f562a-3123-4059-9803-0d4076d0728a",
   "metadata": {},
   "source": [
    "Based on the pipe size and preliminary Kvs a balancing valve can now be selected. In this example the following balancing valves were selected:\n",
    "- cross-over P5: Kvs = 1.33\n",
    "- cross-over P6: Kvs = 5.35\n",
    "- cross-over P7: Kvs = 2.32\n",
    "- cross-over P8: Kvs = 2.32"
   ]
  },
  {
   "cell_type": "code",
   "execution_count": 24,
   "id": "34b20aaf-08cc-410b-8df5-c4eb623c371c",
   "metadata": {},
   "outputs": [],
   "source": [
    "Kvs_list = [1.33, 5.35, 2.32, 2.32]\n",
    "\n",
    "for cross_over_ID, Kvs in zip(cross_over_IDs, Kvs_list):\n",
    "    pipe_network.set_balancing_valve_Kvs(cross_over_ID, Kvs)"
   ]
  },
  {
   "cell_type": "markdown",
   "id": "e551e184-e828-4641-a0b2-59ab5d31cb01",
   "metadata": {},
   "source": [
    "## Add Control Valves to the Cross-Overs"
   ]
  },
  {
   "cell_type": "markdown",
   "id": "405c5846-3674-4048-a6b9-95007180f152",
   "metadata": {},
   "source": [
    "### Calculate Preliminary Flow Coefficients"
   ]
  },
  {
   "cell_type": "markdown",
   "id": "3bd099f7-5968-4851-9485-eb23f6a428b1",
   "metadata": {},
   "source": [
    "The control valves in the cross-overs serve to control the volume flow rate through the heat emitters in the hydronic distribution system at part-load conditions. They are installed upstream of the heat emitter they control. First, a preliminary flow coefficient of the control valves is calculated based on a chosen target valve authority, which should be at least 0.5 in order to attain a good controllability of the valve."
   ]
  },
  {
   "cell_type": "code",
   "execution_count": 25,
   "id": "6d8eaa85-27f7-4722-84e8-e2003cb84203",
   "metadata": {},
   "outputs": [
    {
     "data": {
      "text/html": [
       "<ul><li>control valve in cross-over P5: preliminary Kvs = 0.573935179185883</li><li>control valve in cross-over P6: preliminary Kvs = 1.721805537557649</li><li>control valve in cross-over P7: preliminary Kvs = 0.8656071554934628</li><li>control valve in cross-over P8: preliminary Kvs = 1.147870358371766</li></ul>"
      ],
      "text/plain": [
       "<IPython.core.display.HTML object>"
      ]
     },
     "metadata": {},
     "output_type": "display_data"
    }
   ],
   "source": [
    "Kvs_pre_list = [\n",
    "    pipe_network.add_control_valve(\n",
    "        cross_over_ID=cross_over_ID, \n",
    "        target_authority=0.5\n",
    "    )\n",
    "    for cross_over_ID in cross_over_IDs\n",
    "]\n",
    "\n",
    "ja.display_list([\n",
    "    f\"control valve in cross-over {cross_over_ID}: preliminary Kvs = {Kvs_pre}\"\n",
    "    for cross_over_ID, Kvs_pre in zip(cross_over_IDs, Kvs_pre_list)]\n",
    ")"
   ]
  },
  {
   "cell_type": "markdown",
   "id": "685a925f-2508-41da-84d4-407f063b8ccf",
   "metadata": {},
   "source": [
    "### Control Valve Selection"
   ]
  },
  {
   "cell_type": "markdown",
   "id": "2b1bba55-1fcf-49e7-9b29-6025800ef80d",
   "metadata": {},
   "source": [
    "In the same way as we did with the balancing valves, the actual control valves can now be selected and their Kvs-values be entered in the program: "
   ]
  },
  {
   "cell_type": "code",
   "execution_count": 26,
   "id": "92275c37-ab42-414c-90b1-0961b7f17c89",
   "metadata": {},
   "outputs": [],
   "source": [
    "Kvs_list = [0.4, 1.6, 0.63, 1.0]\n",
    "\n",
    "for cross_over_ID, Kvs in zip(cross_over_IDs, Kvs_list):\n",
    "    pipe_network.set_control_valve_Kvs(cross_over_ID, Kvs)"
   ]
  },
  {
   "cell_type": "markdown",
   "id": "6c1901c7-ecbc-4c04-a02c-824e59bfdb43",
   "metadata": {},
   "source": [
    "## Pipes, Fittings and Flow Paths Overview (bis)"
   ]
  },
  {
   "cell_type": "markdown",
   "id": "2f361be3-ff71-49ff-a6d1-1d73a36b059a",
   "metadata": {},
   "source": [
    "### Pipes"
   ]
  },
  {
   "cell_type": "code",
   "execution_count": 27,
   "id": "72d238f9-d457-400b-aef8-58feb7d89c7c",
   "metadata": {},
   "outputs": [
    {
     "data": {
      "text/html": [
       "<div class=\"my_table\"><table border=\"1\" class=\"dataframe\">\n",
       "  <thead>\n",
       "    <tr style=\"text-align: right;\">\n",
       "      <th></th>\n",
       "      <th>pipe ID</th>\n",
       "      <th>L [m]</th>\n",
       "      <th>DN [mm]</th>\n",
       "      <th>Di [mm]</th>\n",
       "      <th>V [l/s]</th>\n",
       "      <th>v [m/s]</th>\n",
       "      <th>zeta</th>\n",
       "      <th>Re</th>\n",
       "      <th>Δp-dyn. [kPa]</th>\n",
       "    </tr>\n",
       "  </thead>\n",
       "  <tbody>\n",
       "    <tr>\n",
       "      <th>0</th>\n",
       "      <td>P1</td>\n",
       "      <td>4.0</td>\n",
       "      <td>35.0</td>\n",
       "      <td>32.0</td>\n",
       "      <td>0.458</td>\n",
       "      <td>0.569476</td>\n",
       "      <td>0.007096</td>\n",
       "      <td>32945.645835</td>\n",
       "      <td>0.463923</td>\n",
       "    </tr>\n",
       "    <tr>\n",
       "      <th>1</th>\n",
       "      <td>P2</td>\n",
       "      <td>2.0</td>\n",
       "      <td>28.0</td>\n",
       "      <td>25.0</td>\n",
       "      <td>0.397</td>\n",
       "      <td>0.808762</td>\n",
       "      <td>-0.011416</td>\n",
       "      <td>36553.841457</td>\n",
       "      <td>0.580797</td>\n",
       "    </tr>\n",
       "    <tr>\n",
       "      <th>2</th>\n",
       "      <td>P3</td>\n",
       "      <td>2.0</td>\n",
       "      <td>22.0</td>\n",
       "      <td>20.0</td>\n",
       "      <td>0.214</td>\n",
       "      <td>0.681183</td>\n",
       "      <td>-0.037437</td>\n",
       "      <td>24630.107279</td>\n",
       "      <td>0.559724</td>\n",
       "    </tr>\n",
       "    <tr>\n",
       "      <th>3</th>\n",
       "      <td>P4</td>\n",
       "      <td>2.0</td>\n",
       "      <td>18.0</td>\n",
       "      <td>16.0</td>\n",
       "      <td>0.122</td>\n",
       "      <td>0.606778</td>\n",
       "      <td>0.096462</td>\n",
       "      <td>17551.828785</td>\n",
       "      <td>0.629676</td>\n",
       "    </tr>\n",
       "    <tr>\n",
       "      <th>4</th>\n",
       "      <td>P5</td>\n",
       "      <td>25.0</td>\n",
       "      <td>18.0</td>\n",
       "      <td>14.0</td>\n",
       "      <td>0.061</td>\n",
       "      <td>0.396263</td>\n",
       "      <td>434.804239</td>\n",
       "      <td>10029.616449</td>\n",
       "      <td>38.028212</td>\n",
       "    </tr>\n",
       "    <tr>\n",
       "      <th>5</th>\n",
       "      <td>P6</td>\n",
       "      <td>25.0</td>\n",
       "      <td>26.0</td>\n",
       "      <td>20.0</td>\n",
       "      <td>0.183</td>\n",
       "      <td>0.582507</td>\n",
       "      <td>114.221187</td>\n",
       "      <td>21062.194542</td>\n",
       "      <td>24.538065</td>\n",
       "    </tr>\n",
       "    <tr>\n",
       "      <th>6</th>\n",
       "      <td>P7</td>\n",
       "      <td>15.0</td>\n",
       "      <td>20.0</td>\n",
       "      <td>16.0</td>\n",
       "      <td>0.092</td>\n",
       "      <td>0.457570</td>\n",
       "      <td>289.403891</td>\n",
       "      <td>13235.805313</td>\n",
       "      <td>32.734969</td>\n",
       "    </tr>\n",
       "    <tr>\n",
       "      <th>7</th>\n",
       "      <td>P8</td>\n",
       "      <td>20.0</td>\n",
       "      <td>20.0</td>\n",
       "      <td>16.0</td>\n",
       "      <td>0.122</td>\n",
       "      <td>0.606778</td>\n",
       "      <td>124.363416</td>\n",
       "      <td>17551.828785</td>\n",
       "      <td>28.742410</td>\n",
       "    </tr>\n",
       "    <tr>\n",
       "      <th>8</th>\n",
       "      <td>P9</td>\n",
       "      <td>2.0</td>\n",
       "      <td>18.0</td>\n",
       "      <td>16.0</td>\n",
       "      <td>0.122</td>\n",
       "      <td>0.606778</td>\n",
       "      <td>0.084951</td>\n",
       "      <td>17551.828785</td>\n",
       "      <td>0.627582</td>\n",
       "    </tr>\n",
       "    <tr>\n",
       "      <th>9</th>\n",
       "      <td>P10</td>\n",
       "      <td>2.0</td>\n",
       "      <td>22.0</td>\n",
       "      <td>20.0</td>\n",
       "      <td>0.214</td>\n",
       "      <td>0.681183</td>\n",
       "      <td>0.514415</td>\n",
       "      <td>24630.107279</td>\n",
       "      <td>0.686230</td>\n",
       "    </tr>\n",
       "    <tr>\n",
       "      <th>10</th>\n",
       "      <td>P11</td>\n",
       "      <td>2.0</td>\n",
       "      <td>28.0</td>\n",
       "      <td>25.0</td>\n",
       "      <td>0.397</td>\n",
       "      <td>0.808762</td>\n",
       "      <td>0.543084</td>\n",
       "      <td>36553.841457</td>\n",
       "      <td>0.759983</td>\n",
       "    </tr>\n",
       "    <tr>\n",
       "      <th>11</th>\n",
       "      <td>P12</td>\n",
       "      <td>4.0</td>\n",
       "      <td>35.0</td>\n",
       "      <td>32.0</td>\n",
       "      <td>0.458</td>\n",
       "      <td>0.569476</td>\n",
       "      <td>0.262696</td>\n",
       "      <td>32945.645835</td>\n",
       "      <td>0.504875</td>\n",
       "    </tr>\n",
       "  </tbody>\n",
       "</table></div>"
      ],
      "text/plain": [
       "<IPython.core.display.HTML object>"
      ]
     },
     "metadata": {},
     "output_type": "display_data"
    }
   ],
   "source": [
    "ja.display_table(pipe_network.get_pipe_table())"
   ]
  },
  {
   "cell_type": "markdown",
   "id": "0ea85d25-ecaa-4bae-8a43-c37a0c1e54fa",
   "metadata": {},
   "source": [
    "### Fittings and Valves"
   ]
  },
  {
   "cell_type": "code",
   "execution_count": 28,
   "id": "2be8e071-177e-415a-87c4-b9de275022fd",
   "metadata": {},
   "outputs": [
    {
     "data": {
      "text/html": [
       "<div class=\"my_table\"><table border=\"1\" class=\"dataframe\">\n",
       "  <thead>\n",
       "    <tr style=\"text-align: right;\">\n",
       "      <th></th>\n",
       "      <th>conduit ID</th>\n",
       "      <th>fitting ID</th>\n",
       "      <th>zeta</th>\n",
       "      <th>pressure drop [kPa]</th>\n",
       "    </tr>\n",
       "  </thead>\n",
       "  <tbody>\n",
       "    <tr>\n",
       "      <th>0</th>\n",
       "      <td>P1</td>\n",
       "      <td>TEE-S1</td>\n",
       "      <td>0.007096</td>\n",
       "      <td>0.001137</td>\n",
       "    </tr>\n",
       "    <tr>\n",
       "      <th>1</th>\n",
       "      <td>P2</td>\n",
       "      <td>TEE-S2</td>\n",
       "      <td>-0.033184</td>\n",
       "      <td>-0.010723</td>\n",
       "    </tr>\n",
       "    <tr>\n",
       "      <th>2</th>\n",
       "      <td>P2</td>\n",
       "      <td>RED-S1</td>\n",
       "      <td>0.021767</td>\n",
       "      <td>0.007034</td>\n",
       "    </tr>\n",
       "    <tr>\n",
       "      <th>3</th>\n",
       "      <td>P3</td>\n",
       "      <td>TEE-S3</td>\n",
       "      <td>-0.051819</td>\n",
       "      <td>-0.011879</td>\n",
       "    </tr>\n",
       "    <tr>\n",
       "      <th>4</th>\n",
       "      <td>P3</td>\n",
       "      <td>RED-S2</td>\n",
       "      <td>0.014382</td>\n",
       "      <td>0.003297</td>\n",
       "    </tr>\n",
       "    <tr>\n",
       "      <th>5</th>\n",
       "      <td>P4</td>\n",
       "      <td>RED-S3</td>\n",
       "      <td>0.011511</td>\n",
       "      <td>0.002094</td>\n",
       "    </tr>\n",
       "    <tr>\n",
       "      <th>6</th>\n",
       "      <td>P4</td>\n",
       "      <td>ELBOW-S4</td>\n",
       "      <td>0.084951</td>\n",
       "      <td>0.015452</td>\n",
       "    </tr>\n",
       "    <tr>\n",
       "      <th>7</th>\n",
       "      <td>P5</td>\n",
       "      <td>TEE-S1</td>\n",
       "      <td>16.014638</td>\n",
       "      <td>1.242356</td>\n",
       "    </tr>\n",
       "    <tr>\n",
       "      <th>8</th>\n",
       "      <td>P5</td>\n",
       "      <td>TEE-R1</td>\n",
       "      <td>-0.200008</td>\n",
       "      <td>-0.015516</td>\n",
       "    </tr>\n",
       "    <tr>\n",
       "      <th>9</th>\n",
       "      <td>P5</td>\n",
       "      <td>BAL-VLV-P5</td>\n",
       "      <td>34.754698</td>\n",
       "      <td>2.696141</td>\n",
       "    </tr>\n",
       "    <tr>\n",
       "      <th>10</th>\n",
       "      <td>P5</td>\n",
       "      <td>CTRL-VLV-P5</td>\n",
       "      <td>384.234911</td>\n",
       "      <td>29.807522</td>\n",
       "    </tr>\n",
       "    <tr>\n",
       "      <th>11</th>\n",
       "      <td>P6</td>\n",
       "      <td>TEE-S2</td>\n",
       "      <td>3.702657</td>\n",
       "      <td>0.620693</td>\n",
       "    </tr>\n",
       "    <tr>\n",
       "      <th>12</th>\n",
       "      <td>P6</td>\n",
       "      <td>TEE-R2</td>\n",
       "      <td>1.553274</td>\n",
       "      <td>0.260382</td>\n",
       "    </tr>\n",
       "    <tr>\n",
       "      <th>13</th>\n",
       "      <td>P6</td>\n",
       "      <td>BAL-VLV-P6</td>\n",
       "      <td>8.945757</td>\n",
       "      <td>1.499619</td>\n",
       "    </tr>\n",
       "    <tr>\n",
       "      <th>14</th>\n",
       "      <td>P6</td>\n",
       "      <td>CTRL-VLV-P6</td>\n",
       "      <td>100.019500</td>\n",
       "      <td>16.766731</td>\n",
       "    </tr>\n",
       "    <tr>\n",
       "      <th>15</th>\n",
       "      <td>P7</td>\n",
       "      <td>TEE-S3</td>\n",
       "      <td>4.149576</td>\n",
       "      <td>0.429221</td>\n",
       "    </tr>\n",
       "    <tr>\n",
       "      <th>16</th>\n",
       "      <td>P7</td>\n",
       "      <td>TEE-R3</td>\n",
       "      <td>1.525946</td>\n",
       "      <td>0.157840</td>\n",
       "    </tr>\n",
       "    <tr>\n",
       "      <th>17</th>\n",
       "      <td>P7</td>\n",
       "      <td>BAL-VLV-P7</td>\n",
       "      <td>19.485368</td>\n",
       "      <td>2.015514</td>\n",
       "    </tr>\n",
       "    <tr>\n",
       "      <th>18</th>\n",
       "      <td>P7</td>\n",
       "      <td>CTRL-VLV-P7</td>\n",
       "      <td>264.243001</td>\n",
       "      <td>27.332587</td>\n",
       "    </tr>\n",
       "    <tr>\n",
       "      <th>19</th>\n",
       "      <td>P8</td>\n",
       "      <td>BAL-VLV-P8</td>\n",
       "      <td>19.485368</td>\n",
       "      <td>3.544295</td>\n",
       "    </tr>\n",
       "    <tr>\n",
       "      <th>20</th>\n",
       "      <td>P8</td>\n",
       "      <td>CTRL-VLV-P8</td>\n",
       "      <td>104.878047</td>\n",
       "      <td>19.076814</td>\n",
       "    </tr>\n",
       "    <tr>\n",
       "      <th>21</th>\n",
       "      <td>P9</td>\n",
       "      <td>ELBOW-R4</td>\n",
       "      <td>0.084951</td>\n",
       "      <td>0.015452</td>\n",
       "    </tr>\n",
       "    <tr>\n",
       "      <th>22</th>\n",
       "      <td>P10</td>\n",
       "      <td>TEE-R3</td>\n",
       "      <td>0.481536</td>\n",
       "      <td>0.110387</td>\n",
       "    </tr>\n",
       "    <tr>\n",
       "      <th>23</th>\n",
       "      <td>P10</td>\n",
       "      <td>ENL-R3</td>\n",
       "      <td>0.032880</td>\n",
       "      <td>0.007537</td>\n",
       "    </tr>\n",
       "    <tr>\n",
       "      <th>24</th>\n",
       "      <td>P11</td>\n",
       "      <td>TEE-R2</td>\n",
       "      <td>0.502002</td>\n",
       "      <td>0.162221</td>\n",
       "    </tr>\n",
       "    <tr>\n",
       "      <th>25</th>\n",
       "      <td>P11</td>\n",
       "      <td>ENL-R2</td>\n",
       "      <td>0.041081</td>\n",
       "      <td>0.013275</td>\n",
       "    </tr>\n",
       "    <tr>\n",
       "      <th>26</th>\n",
       "      <td>P12</td>\n",
       "      <td>TEE-R1</td>\n",
       "      <td>0.188702</td>\n",
       "      <td>0.030234</td>\n",
       "    </tr>\n",
       "    <tr>\n",
       "      <th>27</th>\n",
       "      <td>P12</td>\n",
       "      <td>ENL-R1</td>\n",
       "      <td>0.073994</td>\n",
       "      <td>0.011855</td>\n",
       "    </tr>\n",
       "  </tbody>\n",
       "</table></div>"
      ],
      "text/plain": [
       "<IPython.core.display.HTML object>"
      ]
     },
     "metadata": {},
     "output_type": "display_data"
    }
   ],
   "source": [
    "ja.display_table(pipe_network.get_fitting_table())"
   ]
  },
  {
   "cell_type": "markdown",
   "id": "8fdaa040-688b-4b0b-b984-2395db9e3e02",
   "metadata": {},
   "source": [
    "### Flow Paths"
   ]
  },
  {
   "cell_type": "code",
   "execution_count": 29,
   "id": "e8ed34de-85ab-4e5e-9210-5b2263987da3",
   "metadata": {},
   "outputs": [
    {
     "data": {
      "text/html": [
       "<div class=\"my_table\"><table border=\"1\" class=\"dataframe\">\n",
       "  <thead>\n",
       "    <tr style=\"text-align: right;\">\n",
       "      <th></th>\n",
       "      <th>path</th>\n",
       "      <th>Δp-elev. [kPa]</th>\n",
       "      <th>Δp-dyn. [kPa]</th>\n",
       "      <th>Δp-tot. [kPa]</th>\n",
       "      <th>Δp-deficit [kPa]</th>\n",
       "    </tr>\n",
       "  </thead>\n",
       "  <tbody>\n",
       "    <tr>\n",
       "      <th>0</th>\n",
       "      <td>P1|P2|P3|P4|P8|P9|P10|P11|P12</td>\n",
       "      <td>0.0</td>\n",
       "      <td>33.555200</td>\n",
       "      <td>33.555200</td>\n",
       "      <td>5.441810</td>\n",
       "    </tr>\n",
       "    <tr>\n",
       "      <th>1</th>\n",
       "      <td>P1|P5|P12</td>\n",
       "      <td>0.0</td>\n",
       "      <td>38.997010</td>\n",
       "      <td>38.997010</td>\n",
       "      <td>0.000000</td>\n",
       "    </tr>\n",
       "    <tr>\n",
       "      <th>2</th>\n",
       "      <td>P1|P2|P6|P11|P12</td>\n",
       "      <td>0.0</td>\n",
       "      <td>26.847643</td>\n",
       "      <td>26.847643</td>\n",
       "      <td>12.149367</td>\n",
       "    </tr>\n",
       "    <tr>\n",
       "      <th>3</th>\n",
       "      <td>P1|P2|P3|P7|P10|P11|P12</td>\n",
       "      <td>0.0</td>\n",
       "      <td>36.290501</td>\n",
       "      <td>36.290501</td>\n",
       "      <td>2.706509</td>\n",
       "    </tr>\n",
       "  </tbody>\n",
       "</table></div>"
      ],
      "text/plain": [
       "<IPython.core.display.HTML object>"
      ]
     },
     "metadata": {},
     "output_type": "display_data"
    }
   ],
   "source": [
    "ja.display_table(pipe_network.get_flow_path_table())"
   ]
  },
  {
   "cell_type": "markdown",
   "id": "6ffa0a13-24ab-4fc0-b8b2-57c14d1fcdf5",
   "metadata": {},
   "source": [
    "## Statically Balance the Network for Design Volume Flow Rates "
   ]
  },
  {
   "cell_type": "markdown",
   "id": "5967b1b9-a55b-47e8-89f0-134cfa901c2b",
   "metadata": {},
   "source": [
    "To let the program balance the flow paths, simply call:"
   ]
  },
  {
   "cell_type": "code",
   "execution_count": 30,
   "id": "2598d0ee-4807-49b7-9f5d-91c5fec6cc76",
   "metadata": {},
   "outputs": [],
   "source": [
    "pipe_network.balance_network_at_design()"
   ]
  },
  {
   "cell_type": "markdown",
   "id": "4ff7a336-e43c-4fc5-a3c1-028980ae2433",
   "metadata": {},
   "source": [
    "Now, we can check the required Kvr-settings of the balancing valves:"
   ]
  },
  {
   "cell_type": "code",
   "execution_count": 31,
   "id": "7dd4d15b-5236-4e66-b25d-60580f24ab6d",
   "metadata": {},
   "outputs": [
    {
     "data": {
      "text/html": [
       "<div class=\"my_table\"><table border=\"1\" class=\"dataframe\">\n",
       "  <thead>\n",
       "    <tr style=\"text-align: right;\">\n",
       "      <th></th>\n",
       "      <th>pipe ID</th>\n",
       "      <th>valve ID</th>\n",
       "      <th>Kvs</th>\n",
       "      <th>Kvr</th>\n",
       "    </tr>\n",
       "  </thead>\n",
       "  <tbody>\n",
       "    <tr>\n",
       "      <th>0</th>\n",
       "      <td>P5</td>\n",
       "      <td>BAL-VLV-P5</td>\n",
       "      <td>1.33</td>\n",
       "      <td>1.330000</td>\n",
       "    </tr>\n",
       "    <tr>\n",
       "      <th>1</th>\n",
       "      <td>P6</td>\n",
       "      <td>BAL-VLV-P6</td>\n",
       "      <td>5.35</td>\n",
       "      <td>1.773348</td>\n",
       "    </tr>\n",
       "    <tr>\n",
       "      <th>2</th>\n",
       "      <td>P7</td>\n",
       "      <td>BAL-VLV-P7</td>\n",
       "      <td>2.32</td>\n",
       "      <td>1.515713</td>\n",
       "    </tr>\n",
       "    <tr>\n",
       "      <th>3</th>\n",
       "      <td>P8</td>\n",
       "      <td>BAL-VLV-P8</td>\n",
       "      <td>2.32</td>\n",
       "      <td>1.457026</td>\n",
       "    </tr>\n",
       "  </tbody>\n",
       "</table></div>"
      ],
      "text/plain": [
       "<IPython.core.display.HTML object>"
      ]
     },
     "metadata": {},
     "output_type": "display_data"
    }
   ],
   "source": [
    "ja.display_table(pipe_network.get_balancing_valve_table())"
   ]
  },
  {
   "cell_type": "markdown",
   "id": "a57c1b0b-c68d-402c-b45d-670e5c115146",
   "metadata": {},
   "source": [
    "## Pipes, Fittings and Flow Paths Overview (ter)"
   ]
  },
  {
   "cell_type": "markdown",
   "id": "6007356f-3c39-4c0c-90fc-28883f986a1b",
   "metadata": {},
   "source": [
    "### Pipes"
   ]
  },
  {
   "cell_type": "code",
   "execution_count": 32,
   "id": "64888681-a92f-497d-8dca-236b2eeb1678",
   "metadata": {},
   "outputs": [
    {
     "data": {
      "text/html": [
       "<div class=\"my_table\"><table border=\"1\" class=\"dataframe\">\n",
       "  <thead>\n",
       "    <tr style=\"text-align: right;\">\n",
       "      <th></th>\n",
       "      <th>pipe ID</th>\n",
       "      <th>L [m]</th>\n",
       "      <th>DN [mm]</th>\n",
       "      <th>Di [mm]</th>\n",
       "      <th>V [l/s]</th>\n",
       "      <th>v [m/s]</th>\n",
       "      <th>zeta</th>\n",
       "      <th>Re</th>\n",
       "      <th>Δp-dyn. [kPa]</th>\n",
       "    </tr>\n",
       "  </thead>\n",
       "  <tbody>\n",
       "    <tr>\n",
       "      <th>0</th>\n",
       "      <td>P1</td>\n",
       "      <td>4.0</td>\n",
       "      <td>35.0</td>\n",
       "      <td>32.0</td>\n",
       "      <td>0.458</td>\n",
       "      <td>0.569476</td>\n",
       "      <td>0.007096</td>\n",
       "      <td>32945.645835</td>\n",
       "      <td>0.463923</td>\n",
       "    </tr>\n",
       "    <tr>\n",
       "      <th>1</th>\n",
       "      <td>P2</td>\n",
       "      <td>2.0</td>\n",
       "      <td>28.0</td>\n",
       "      <td>25.0</td>\n",
       "      <td>0.397</td>\n",
       "      <td>0.808762</td>\n",
       "      <td>-0.011416</td>\n",
       "      <td>36553.841457</td>\n",
       "      <td>0.580797</td>\n",
       "    </tr>\n",
       "    <tr>\n",
       "      <th>2</th>\n",
       "      <td>P3</td>\n",
       "      <td>2.0</td>\n",
       "      <td>22.0</td>\n",
       "      <td>20.0</td>\n",
       "      <td>0.214</td>\n",
       "      <td>0.681183</td>\n",
       "      <td>-0.037437</td>\n",
       "      <td>24630.107279</td>\n",
       "      <td>0.559724</td>\n",
       "    </tr>\n",
       "    <tr>\n",
       "      <th>3</th>\n",
       "      <td>P4</td>\n",
       "      <td>2.0</td>\n",
       "      <td>18.0</td>\n",
       "      <td>16.0</td>\n",
       "      <td>0.122</td>\n",
       "      <td>0.606778</td>\n",
       "      <td>0.096462</td>\n",
       "      <td>17551.828785</td>\n",
       "      <td>0.629676</td>\n",
       "    </tr>\n",
       "    <tr>\n",
       "      <th>4</th>\n",
       "      <td>P5</td>\n",
       "      <td>25.0</td>\n",
       "      <td>18.0</td>\n",
       "      <td>14.0</td>\n",
       "      <td>0.061</td>\n",
       "      <td>0.396263</td>\n",
       "      <td>434.804239</td>\n",
       "      <td>10029.616449</td>\n",
       "      <td>38.028212</td>\n",
       "    </tr>\n",
       "    <tr>\n",
       "      <th>5</th>\n",
       "      <td>P6</td>\n",
       "      <td>25.0</td>\n",
       "      <td>26.0</td>\n",
       "      <td>20.0</td>\n",
       "      <td>0.183</td>\n",
       "      <td>0.582507</td>\n",
       "      <td>186.696474</td>\n",
       "      <td>21062.194542</td>\n",
       "      <td>36.687432</td>\n",
       "    </tr>\n",
       "    <tr>\n",
       "      <th>6</th>\n",
       "      <td>P7</td>\n",
       "      <td>15.0</td>\n",
       "      <td>20.0</td>\n",
       "      <td>16.0</td>\n",
       "      <td>0.092</td>\n",
       "      <td>0.457570</td>\n",
       "      <td>315.569585</td>\n",
       "      <td>13235.805313</td>\n",
       "      <td>35.441478</td>\n",
       "    </tr>\n",
       "    <tr>\n",
       "      <th>7</th>\n",
       "      <td>P8</td>\n",
       "      <td>20.0</td>\n",
       "      <td>20.0</td>\n",
       "      <td>16.0</td>\n",
       "      <td>0.122</td>\n",
       "      <td>0.606778</td>\n",
       "      <td>154.280699</td>\n",
       "      <td>17551.828785</td>\n",
       "      <td>34.184220</td>\n",
       "    </tr>\n",
       "    <tr>\n",
       "      <th>8</th>\n",
       "      <td>P9</td>\n",
       "      <td>2.0</td>\n",
       "      <td>18.0</td>\n",
       "      <td>16.0</td>\n",
       "      <td>0.122</td>\n",
       "      <td>0.606778</td>\n",
       "      <td>0.084951</td>\n",
       "      <td>17551.828785</td>\n",
       "      <td>0.627582</td>\n",
       "    </tr>\n",
       "    <tr>\n",
       "      <th>9</th>\n",
       "      <td>P10</td>\n",
       "      <td>2.0</td>\n",
       "      <td>22.0</td>\n",
       "      <td>20.0</td>\n",
       "      <td>0.214</td>\n",
       "      <td>0.681183</td>\n",
       "      <td>0.514415</td>\n",
       "      <td>24630.107279</td>\n",
       "      <td>0.686230</td>\n",
       "    </tr>\n",
       "    <tr>\n",
       "      <th>10</th>\n",
       "      <td>P11</td>\n",
       "      <td>2.0</td>\n",
       "      <td>28.0</td>\n",
       "      <td>25.0</td>\n",
       "      <td>0.397</td>\n",
       "      <td>0.808762</td>\n",
       "      <td>0.543084</td>\n",
       "      <td>36553.841457</td>\n",
       "      <td>0.759983</td>\n",
       "    </tr>\n",
       "    <tr>\n",
       "      <th>11</th>\n",
       "      <td>P12</td>\n",
       "      <td>4.0</td>\n",
       "      <td>35.0</td>\n",
       "      <td>32.0</td>\n",
       "      <td>0.458</td>\n",
       "      <td>0.569476</td>\n",
       "      <td>0.262696</td>\n",
       "      <td>32945.645835</td>\n",
       "      <td>0.504875</td>\n",
       "    </tr>\n",
       "  </tbody>\n",
       "</table></div>"
      ],
      "text/plain": [
       "<IPython.core.display.HTML object>"
      ]
     },
     "metadata": {},
     "output_type": "display_data"
    }
   ],
   "source": [
    "ja.display_table(pipe_network.get_pipe_table())"
   ]
  },
  {
   "cell_type": "markdown",
   "id": "2540eefe-69fb-47b2-8176-59f1d759ac2c",
   "metadata": {},
   "source": [
    "### Fittings and Valves"
   ]
  },
  {
   "cell_type": "code",
   "execution_count": 33,
   "id": "4de48793-a3e2-4784-8b1d-11f2486a25c7",
   "metadata": {},
   "outputs": [
    {
     "data": {
      "text/html": [
       "<div class=\"my_table\"><table border=\"1\" class=\"dataframe\">\n",
       "  <thead>\n",
       "    <tr style=\"text-align: right;\">\n",
       "      <th></th>\n",
       "      <th>conduit ID</th>\n",
       "      <th>fitting ID</th>\n",
       "      <th>zeta</th>\n",
       "      <th>pressure drop [kPa]</th>\n",
       "    </tr>\n",
       "  </thead>\n",
       "  <tbody>\n",
       "    <tr>\n",
       "      <th>0</th>\n",
       "      <td>P1</td>\n",
       "      <td>TEE-S1</td>\n",
       "      <td>0.007096</td>\n",
       "      <td>0.001137</td>\n",
       "    </tr>\n",
       "    <tr>\n",
       "      <th>1</th>\n",
       "      <td>P2</td>\n",
       "      <td>TEE-S2</td>\n",
       "      <td>-0.033184</td>\n",
       "      <td>-0.010723</td>\n",
       "    </tr>\n",
       "    <tr>\n",
       "      <th>2</th>\n",
       "      <td>P2</td>\n",
       "      <td>RED-S1</td>\n",
       "      <td>0.021767</td>\n",
       "      <td>0.007034</td>\n",
       "    </tr>\n",
       "    <tr>\n",
       "      <th>3</th>\n",
       "      <td>P3</td>\n",
       "      <td>TEE-S3</td>\n",
       "      <td>-0.051819</td>\n",
       "      <td>-0.011879</td>\n",
       "    </tr>\n",
       "    <tr>\n",
       "      <th>4</th>\n",
       "      <td>P3</td>\n",
       "      <td>RED-S2</td>\n",
       "      <td>0.014382</td>\n",
       "      <td>0.003297</td>\n",
       "    </tr>\n",
       "    <tr>\n",
       "      <th>5</th>\n",
       "      <td>P4</td>\n",
       "      <td>RED-S3</td>\n",
       "      <td>0.011511</td>\n",
       "      <td>0.002094</td>\n",
       "    </tr>\n",
       "    <tr>\n",
       "      <th>6</th>\n",
       "      <td>P4</td>\n",
       "      <td>ELBOW-S4</td>\n",
       "      <td>0.084951</td>\n",
       "      <td>0.015452</td>\n",
       "    </tr>\n",
       "    <tr>\n",
       "      <th>7</th>\n",
       "      <td>P5</td>\n",
       "      <td>TEE-S1</td>\n",
       "      <td>16.014638</td>\n",
       "      <td>1.242356</td>\n",
       "    </tr>\n",
       "    <tr>\n",
       "      <th>8</th>\n",
       "      <td>P5</td>\n",
       "      <td>TEE-R1</td>\n",
       "      <td>-0.200008</td>\n",
       "      <td>-0.015516</td>\n",
       "    </tr>\n",
       "    <tr>\n",
       "      <th>9</th>\n",
       "      <td>P5</td>\n",
       "      <td>BAL-VLV-P5</td>\n",
       "      <td>34.754698</td>\n",
       "      <td>2.696141</td>\n",
       "    </tr>\n",
       "    <tr>\n",
       "      <th>10</th>\n",
       "      <td>P5</td>\n",
       "      <td>CTRL-VLV-P5</td>\n",
       "      <td>384.234911</td>\n",
       "      <td>29.807522</td>\n",
       "    </tr>\n",
       "    <tr>\n",
       "      <th>11</th>\n",
       "      <td>P6</td>\n",
       "      <td>TEE-S2</td>\n",
       "      <td>3.702657</td>\n",
       "      <td>0.620693</td>\n",
       "    </tr>\n",
       "    <tr>\n",
       "      <th>12</th>\n",
       "      <td>P6</td>\n",
       "      <td>TEE-R2</td>\n",
       "      <td>1.553274</td>\n",
       "      <td>0.260382</td>\n",
       "    </tr>\n",
       "    <tr>\n",
       "      <th>13</th>\n",
       "      <td>P6</td>\n",
       "      <td>BAL-VLV-P6</td>\n",
       "      <td>81.421043</td>\n",
       "      <td>13.648986</td>\n",
       "    </tr>\n",
       "    <tr>\n",
       "      <th>14</th>\n",
       "      <td>P6</td>\n",
       "      <td>CTRL-VLV-P6</td>\n",
       "      <td>100.019500</td>\n",
       "      <td>16.766731</td>\n",
       "    </tr>\n",
       "    <tr>\n",
       "      <th>15</th>\n",
       "      <td>P7</td>\n",
       "      <td>TEE-S3</td>\n",
       "      <td>4.149576</td>\n",
       "      <td>0.429221</td>\n",
       "    </tr>\n",
       "    <tr>\n",
       "      <th>16</th>\n",
       "      <td>P7</td>\n",
       "      <td>TEE-R3</td>\n",
       "      <td>1.525946</td>\n",
       "      <td>0.157840</td>\n",
       "    </tr>\n",
       "    <tr>\n",
       "      <th>17</th>\n",
       "      <td>P7</td>\n",
       "      <td>BAL-VLV-P7</td>\n",
       "      <td>45.651062</td>\n",
       "      <td>4.722023</td>\n",
       "    </tr>\n",
       "    <tr>\n",
       "      <th>18</th>\n",
       "      <td>P7</td>\n",
       "      <td>CTRL-VLV-P7</td>\n",
       "      <td>264.243001</td>\n",
       "      <td>27.332587</td>\n",
       "    </tr>\n",
       "    <tr>\n",
       "      <th>19</th>\n",
       "      <td>P8</td>\n",
       "      <td>BAL-VLV-P8</td>\n",
       "      <td>49.402652</td>\n",
       "      <td>8.986105</td>\n",
       "    </tr>\n",
       "    <tr>\n",
       "      <th>20</th>\n",
       "      <td>P8</td>\n",
       "      <td>CTRL-VLV-P8</td>\n",
       "      <td>104.878047</td>\n",
       "      <td>19.076814</td>\n",
       "    </tr>\n",
       "    <tr>\n",
       "      <th>21</th>\n",
       "      <td>P9</td>\n",
       "      <td>ELBOW-R4</td>\n",
       "      <td>0.084951</td>\n",
       "      <td>0.015452</td>\n",
       "    </tr>\n",
       "    <tr>\n",
       "      <th>22</th>\n",
       "      <td>P10</td>\n",
       "      <td>TEE-R3</td>\n",
       "      <td>0.481536</td>\n",
       "      <td>0.110387</td>\n",
       "    </tr>\n",
       "    <tr>\n",
       "      <th>23</th>\n",
       "      <td>P10</td>\n",
       "      <td>ENL-R3</td>\n",
       "      <td>0.032880</td>\n",
       "      <td>0.007537</td>\n",
       "    </tr>\n",
       "    <tr>\n",
       "      <th>24</th>\n",
       "      <td>P11</td>\n",
       "      <td>TEE-R2</td>\n",
       "      <td>0.502002</td>\n",
       "      <td>0.162221</td>\n",
       "    </tr>\n",
       "    <tr>\n",
       "      <th>25</th>\n",
       "      <td>P11</td>\n",
       "      <td>ENL-R2</td>\n",
       "      <td>0.041081</td>\n",
       "      <td>0.013275</td>\n",
       "    </tr>\n",
       "    <tr>\n",
       "      <th>26</th>\n",
       "      <td>P12</td>\n",
       "      <td>TEE-R1</td>\n",
       "      <td>0.188702</td>\n",
       "      <td>0.030234</td>\n",
       "    </tr>\n",
       "    <tr>\n",
       "      <th>27</th>\n",
       "      <td>P12</td>\n",
       "      <td>ENL-R1</td>\n",
       "      <td>0.073994</td>\n",
       "      <td>0.011855</td>\n",
       "    </tr>\n",
       "  </tbody>\n",
       "</table></div>"
      ],
      "text/plain": [
       "<IPython.core.display.HTML object>"
      ]
     },
     "metadata": {},
     "output_type": "display_data"
    }
   ],
   "source": [
    "ja.display_table(pipe_network.get_fitting_table())"
   ]
  },
  {
   "cell_type": "markdown",
   "id": "9b0f8abc-c715-4968-b622-1fae17b3ee39",
   "metadata": {},
   "source": [
    "### Flow Paths"
   ]
  },
  {
   "cell_type": "code",
   "execution_count": 34,
   "id": "7ddf9f99-6ddc-49b1-adcd-95b467939edc",
   "metadata": {},
   "outputs": [
    {
     "data": {
      "text/html": [
       "<div class=\"my_table\"><table border=\"1\" class=\"dataframe\">\n",
       "  <thead>\n",
       "    <tr style=\"text-align: right;\">\n",
       "      <th></th>\n",
       "      <th>path</th>\n",
       "      <th>Δp-elev. [kPa]</th>\n",
       "      <th>Δp-dyn. [kPa]</th>\n",
       "      <th>Δp-tot. [kPa]</th>\n",
       "      <th>Δp-deficit [kPa]</th>\n",
       "    </tr>\n",
       "  </thead>\n",
       "  <tbody>\n",
       "    <tr>\n",
       "      <th>0</th>\n",
       "      <td>P1|P2|P3|P4|P8|P9|P10|P11|P12</td>\n",
       "      <td>0.0</td>\n",
       "      <td>38.99701</td>\n",
       "      <td>38.99701</td>\n",
       "      <td>0.000000e+00</td>\n",
       "    </tr>\n",
       "    <tr>\n",
       "      <th>1</th>\n",
       "      <td>P1|P5|P12</td>\n",
       "      <td>0.0</td>\n",
       "      <td>38.99701</td>\n",
       "      <td>38.99701</td>\n",
       "      <td>7.275958e-15</td>\n",
       "    </tr>\n",
       "    <tr>\n",
       "      <th>2</th>\n",
       "      <td>P1|P2|P6|P11|P12</td>\n",
       "      <td>0.0</td>\n",
       "      <td>38.99701</td>\n",
       "      <td>38.99701</td>\n",
       "      <td>7.275958e-15</td>\n",
       "    </tr>\n",
       "    <tr>\n",
       "      <th>3</th>\n",
       "      <td>P1|P2|P3|P7|P10|P11|P12</td>\n",
       "      <td>0.0</td>\n",
       "      <td>38.99701</td>\n",
       "      <td>38.99701</td>\n",
       "      <td>1.455192e-14</td>\n",
       "    </tr>\n",
       "  </tbody>\n",
       "</table></div>"
      ],
      "text/plain": [
       "<IPython.core.display.HTML object>"
      ]
     },
     "metadata": {},
     "output_type": "display_data"
    }
   ],
   "source": [
    "ja.display_table(pipe_network.get_flow_path_table())"
   ]
  },
  {
   "cell_type": "markdown",
   "id": "26e6ae10-702a-4e66-b41f-57eadbdd1c3a",
   "metadata": {},
   "source": [
    "## Checking Control Valve Authorities"
   ]
  },
  {
   "cell_type": "markdown",
   "id": "f6af1bd9-adbc-4320-8573-95ee428ad7d3",
   "metadata": {},
   "source": [
    "Finally, we can check the authority of the control valves in the balanced network. The authority of a modulating control valve should not be smaller than 0.25."
   ]
  },
  {
   "cell_type": "code",
   "execution_count": 35,
   "id": "080f39c8-6f5f-43f3-9570-f5ac4ea01683",
   "metadata": {},
   "outputs": [
    {
     "data": {
      "text/html": [
       "<div class=\"my_table\"><table border=\"1\" class=\"dataframe\">\n",
       "  <thead>\n",
       "    <tr style=\"text-align: right;\">\n",
       "      <th></th>\n",
       "      <th>pipe ID</th>\n",
       "      <th>valve ID</th>\n",
       "      <th>Kvs</th>\n",
       "      <th>authority</th>\n",
       "    </tr>\n",
       "  </thead>\n",
       "  <tbody>\n",
       "    <tr>\n",
       "      <th>0</th>\n",
       "      <td>P5</td>\n",
       "      <td>CTRL-VLV-P5</td>\n",
       "      <td>0.40</td>\n",
       "      <td>0.764354</td>\n",
       "    </tr>\n",
       "    <tr>\n",
       "      <th>1</th>\n",
       "      <td>P6</td>\n",
       "      <td>CTRL-VLV-P6</td>\n",
       "      <td>1.60</td>\n",
       "      <td>0.429949</td>\n",
       "    </tr>\n",
       "    <tr>\n",
       "      <th>2</th>\n",
       "      <td>P7</td>\n",
       "      <td>CTRL-VLV-P7</td>\n",
       "      <td>0.63</td>\n",
       "      <td>0.700889</td>\n",
       "    </tr>\n",
       "    <tr>\n",
       "      <th>3</th>\n",
       "      <td>P8</td>\n",
       "      <td>CTRL-VLV-P8</td>\n",
       "      <td>1.00</td>\n",
       "      <td>0.489187</td>\n",
       "    </tr>\n",
       "  </tbody>\n",
       "</table></div>"
      ],
      "text/plain": [
       "<IPython.core.display.HTML object>"
      ]
     },
     "metadata": {},
     "output_type": "display_data"
    }
   ],
   "source": [
    "ja.display_table(pipe_network.get_control_valve_table())"
   ]
  },
  {
   "cell_type": "markdown",
   "id": "759337be-d3d0-4ba3-a3a0-9ea9ca613f75",
   "metadata": {},
   "source": [
    "## Drawing the System Curve of the Network"
   ]
  },
  {
   "cell_type": "markdown",
   "id": "4cc4ebd3-9c32-425e-999a-6db2345dcd22",
   "metadata": {},
   "source": [
    "Between the start and the end node of the balanced pipe network the pressure difference will be equal to the pressure loss along the critical path. As the network is balanced, each flow path between the start and the end node of the network creates the same pressure loss, as can be seen in the flow path table above. The ratio of the pressure difference to the square of the volume flow rate that enters the network through the start node (and leaves through the end node) is a measure of the hydraulic resistance of the balanced network. If the volume flow rate into the network at the start node of the network changes, the hydraulic resistance of the network remains the same, and as such the pressure difference between the start node and the end node of the network will change accordingly to the square of the volume flow rate. This relationship between the volume flow rate into (and out of) the network and the pressure difference across the hydraulic resistance of the pipe network is graphically presented by the system curve. However, if a control valve in the network changes its opening, the hydraulic resistance of the network will change, and as such the system curve will also change accordingly. Also, the network won't be (perfectly) balanced anymore, meaning that volume flow rates through other cross-overs will also inevitably change. This will be demonstrated in a subsequent notebook."
   ]
  },
  {
   "cell_type": "code",
   "execution_count": 36,
   "id": "75d9005d-a1a9-4fc1-9c82-03a73fb5288d",
   "metadata": {},
   "outputs": [],
   "source": [
    "from hvac.fluid_flow.utils import SystemCurve"
   ]
  },
  {
   "cell_type": "code",
   "execution_count": 37,
   "id": "e18faf3b-9392-412e-aec2-614ca9d6632e",
   "metadata": {},
   "outputs": [],
   "source": [
    "system_curve = SystemCurve.create(pipe_network.hydraulic_resistance)"
   ]
  },
  {
   "cell_type": "code",
   "execution_count": 38,
   "id": "53a7e8df-4ee0-4dee-944f-a8ef0ef09f71",
   "metadata": {},
   "outputs": [
    {
     "data": {
      "image/png": "[encoded data removed]",
      "text/plain": [
       "<Figure size 768x576 with 1 Axes>"
      ]
     },
     "metadata": {},
     "output_type": "display_data"
    }
   ],
   "source": [
    "diagram = system_curve.diagram(\n",
    "    V_ini=Q_(0.0, 'L / s'),\n",
    "    V_fin=Q_(0.5, 'L / s'),\n",
    "    V_design=pipe_network.volume_flow_rate,\n",
    "    no_points=50,\n",
    "    fig_size=(8, 6),\n",
    "    dpi=96,\n",
    "    V_step=Q_(0.05, 'L / s'),\n",
    "    V_max=Q_(0.65, 'L / s'),\n",
    "    dP_step=Q_(5.0, 'kPa'),\n",
    "    dP_max=Q_(50.0, 'kPa'),\n",
    "    V_unit='L / s',\n",
    "    dP_unit='kPa'\n",
    ")\n",
    "diagram.show()"
   ]
  },
  {
   "cell_type": "markdown",
   "id": "763f4d61-c703-4229-985f-b4eb16598594",
   "metadata": {},
   "source": [
    "## Save the Pipe Network for Later "
   ]
  },
  {
   "cell_type": "markdown",
   "id": "66a932c8-e30e-473e-a8df-b7ae39bc7137",
   "metadata": {},
   "source": [
    "We will use this hydronic pipe network again in a subsequent notebook in which we will analyze the effect of closing control valves on the volume flow rates in the pipe network. Therefore, we save this pipe network on disk."
   ]
  },
  {
   "cell_type": "code",
   "execution_count": 39,
   "id": "344c9198-daf9-4da2-a8f2-734ea7298538",
   "metadata": {},
   "outputs": [],
   "source": [
    "from hvac.fluid_flow.network import save_network\n",
    "\n",
    "save_network(pipe_network, \"./networks/hydronic_network.pickle\")"
   ]
  }
 ],
 "metadata": {
  "kernelspec": {
   "display_name": "Python 3 (ipykernel)",
   "language": "python",
   "name": "python3"
  },
  "language_info": {
   "codemirror_mode": {
    "name": "ipython",
    "version": 3
   },
   "file_extension": ".py",
   "mimetype": "text/x-python",
   "name": "python",
   "nbconvert_exporter": "python",
   "pygments_lexer": "ipython3",
   "version": "3.10.4"
  }
 },
 "nbformat": 4,
 "nbformat_minor": 5
}
