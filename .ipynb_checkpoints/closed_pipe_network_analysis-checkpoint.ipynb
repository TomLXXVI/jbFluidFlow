{
 "cells": [
  {
   "cell_type": "markdown",
   "id": "572f2f1e-c6f5-4bc6-83f3-78ce0a5aaed4",
   "metadata": {},
   "source": [
    "# Analysis of the Hydronic Network\n",
    "---"
   ]
  },
  {
   "cell_type": "code",
   "execution_count": 1,
   "id": "5bc83864-22eb-4573-bccf-61da154c655a",
   "metadata": {
    "tags": [
     "remove-cell"
    ]
   },
   "outputs": [],
   "source": [
    "from deps import load_packages\n",
    "load_packages()"
   ]
  },
  {
   "cell_type": "code",
   "execution_count": 2,
   "id": "9853575d-bf0d-4f43-a026-a11b37769f5d",
   "metadata": {
    "tags": [
     "remove-cell"
    ]
   },
   "outputs": [
    {
     "data": {
      "text/html": [
       "<style>.my_table {\n",
       "    display: flex;\n",
       "    justify-content: center;\n",
       "}\n",
       "\n",
       ".my_table table {\n",
       "    border: 1px solid #ddd;\n",
       "}\n",
       "\n",
       ".my_table th, .my_table td {\n",
       "    padding: 8px;\n",
       "    border: 1px solid #ddd;\n",
       "    font-size: 1.25em;\n",
       "}\n",
       "\n",
       ".my_table td {\n",
       "    text-align: left;\n",
       "}\n",
       "\n",
       ".my_table th {\n",
       "    text-align: center;\n",
       "}\n",
       "\n",
       ".jp-Cell-outputArea {\n",
       "    box-shadow: none !important;\n",
       "}\n",
       "</style><p>Loaded <code>my_styles.css</code></p>"
      ],
      "text/plain": [
       "<IPython.core.display.HTML object>"
      ]
     },
     "execution_count": 2,
     "metadata": {},
     "output_type": "execute_result"
    }
   ],
   "source": [
    "import jupyter_addons as ja\n",
    "ja.set_css()"
   ]
  },
  {
   "cell_type": "markdown",
   "id": "77e3f212-a6cb-40da-bd14-eecd15b32733",
   "metadata": {},
   "source": [
    "## Let's Import What We'll Need"
   ]
  },
  {
   "cell_type": "code",
   "execution_count": 3,
   "id": "8883f766-d938-4906-8d88-12980f636973",
   "metadata": {},
   "outputs": [],
   "source": [
    "from hvac import Quantity\n",
    "from hvac.fluid_flow import load_network, PseudoConduit, SystemCurve\n",
    "from hvac.fluid_flow.utils import plot_curves"
   ]
  },
  {
   "cell_type": "code",
   "execution_count": 6,
   "id": "69ffa4b0-faa5-4ab1-b732-7774de6cfde1",
   "metadata": {},
   "outputs": [],
   "source": [
    "Q_ = Quantity"
   ]
  },
  {
   "cell_type": "markdown",
   "id": "ee02b2d1-a169-4260-a9df-f8f855cf4480",
   "metadata": {},
   "source": [
    "## Load the Hydronic Network back into this Notebook"
   ]
  },
  {
   "cell_type": "markdown",
   "id": "15f8c31d-9c7b-4dea-bda5-3ce12dbec7fa",
   "metadata": {},
   "source": [
    "In the previous notebook \"Design of a Hydronic Network\" we saved our `PipeNetwork` object on the file path:"
   ]
  },
  {
   "cell_type": "code",
   "execution_count": 4,
   "id": "ff7a3277-387f-4b29-be02-f630bde9e0af",
   "metadata": {},
   "outputs": [],
   "source": [
    "file_path = \"./networks/hydronic_network.pickle\""
   ]
  },
  {
   "cell_type": "markdown",
   "id": "48b8baac-9a3a-42dc-8412-9338425c251f",
   "metadata": {},
   "source": [
    "Now, let's load this object again from disk:"
   ]
  },
  {
   "cell_type": "code",
   "execution_count": 5,
   "id": "49ddea45-daf7-49dd-a05b-59701dfc0b9e",
   "metadata": {},
   "outputs": [],
   "source": [
    "pipe_network = load_network(file_path)"
   ]
  },
  {
   "cell_type": "markdown",
   "id": "26b67fa6-5a8c-4d36-8f7f-1c59bb51180f",
   "metadata": {},
   "source": [
    "## Add a Pseudo Conduit with a Fixed Pressure Difference"
   ]
  },
  {
   "cell_type": "markdown",
   "id": "33c8b2a7-b9d5-45f9-9024-9d9ef9d9d3ce",
   "metadata": {},
   "source": [
    "A pseudo conduit, as the name suggests, is not a real conduit in a pipe network. We use it to represent a fixed pressure difference between two nodes."
   ]
  },
  {
   "cell_type": "markdown",
   "id": "5c80b17b-f4da-4169-a246-ae78d7f9b671",
   "metadata": {},
   "source": [
    "![scheme](./images/hydronic_network.png)"
   ]
  },
  {
   "cell_type": "markdown",
   "id": "bcd8dfd9-176b-4675-9c78-c6126faf5d23",
   "metadata": {},
   "source": [
    "From the design of the hydronic pipe network it follows that we need a pressure difference of about 39 kPa between end node R0 and start node S0 to establish the design volume flow rates in the pipe network. In order to analyze the pipe network, we add a `PseudoConduit` object between the end node and the start node of the network with a fixed pressure difference of 39 kPa."
   ]
  },
  {
   "cell_type": "code",
   "execution_count": 7,
   "id": "7f3d5a01-9c59-415d-a8d2-67c407c812a3",
   "metadata": {},
   "outputs": [],
   "source": [
    "pseudo_conduit = PseudoConduit.create(fixed_pressure_drop=Q_(-39, 'kPa'))"
   ]
  },
  {
   "cell_type": "markdown",
   "id": "8e4c5074-1791-4a44-8b25-a4d63681eb00",
   "metadata": {},
   "source": [
    "The start node of the network is at a pressure that is 39 kPa higher than the pressure at the end node of the network. If there would be a real conduit between the start and the end node of the network, there would be a flow of water from the start node towards the end node. The direction of this flow would be opposite to the positive, clock-wise sense of the loop L1, as can be deduced from the scheme above. This is the reason why we need to add a minus sign. It can also be noticed that the fixed pressure difference between the end node and the start node is a pressure rise rather than a pressure drop.\n",
    "\n",
    "After the pseudo conduit has been created, we still need to add it to the network:"
   ]
  },
  {
   "cell_type": "code",
   "execution_count": 8,
   "id": "49f90846-ae1f-4fb1-a6b5-dbea0e15df30",
   "metadata": {},
   "outputs": [],
   "source": [
    "pipe_network.add_conduit(\n",
    "    conduit=pseudo_conduit,\n",
    "    conduit_ID='P13',\n",
    "    start_node_ID='R0',\n",
    "    end_node_ID='S0',\n",
    "    loop_ID='L1'\n",
    ")"
   ]
  },
  {
   "cell_type": "markdown",
   "id": "c79e701c-bad6-4b97-9da0-db75f99f5b9d",
   "metadata": {},
   "source": [
    "## More about Loops"
   ]
  },
  {
   "cell_type": "markdown",
   "id": "e92a938e-f969-4bd6-a003-a97300390ee3",
   "metadata": {},
   "source": [
    "Before we move on, let's first go back to the pipe configuration csv-file that we discussed in the notebook \"Design of a Hydronic Network\" and which is displayed again below: "
   ]
  },
  {
   "cell_type": "code",
   "execution_count": 9,
   "id": "ca089f9c-f312-4cd2-921b-49baad9f5ee2",
   "metadata": {
    "jupyter": {
     "source_hidden": true
    },
    "tags": [
     "hide-input"
    ]
   },
   "outputs": [
    {
     "data": {
      "text/html": [
       "<div class=\"my_table\"><table border=\"1\" class=\"dataframe\">\n",
       "  <thead>\n",
       "    <tr style=\"text-align: right;\">\n",
       "      <th></th>\n",
       "      <th>conduit_ID</th>\n",
       "      <th>start_node_ID</th>\n",
       "      <th>end_node_ID</th>\n",
       "      <th>loop_ID</th>\n",
       "      <th>schedule</th>\n",
       "      <th>length</th>\n",
       "      <th>volume_flow_rate</th>\n",
       "      <th>specific_pressure_drop</th>\n",
       "    </tr>\n",
       "  </thead>\n",
       "  <tbody>\n",
       "    <tr>\n",
       "      <th>0</th>\n",
       "      <td>P1</td>\n",
       "      <td>S0</td>\n",
       "      <td>S1</td>\n",
       "      <td>L1</td>\n",
       "      <td>copper</td>\n",
       "      <td>4</td>\n",
       "      <td>0.458</td>\n",
       "      <td>0.2</td>\n",
       "    </tr>\n",
       "    <tr>\n",
       "      <th>1</th>\n",
       "      <td>P2</td>\n",
       "      <td>S1</td>\n",
       "      <td>S2</td>\n",
       "      <td>L2</td>\n",
       "      <td>copper</td>\n",
       "      <td>2</td>\n",
       "      <td>0.397</td>\n",
       "      <td>0.2</td>\n",
       "    </tr>\n",
       "    <tr>\n",
       "      <th>2</th>\n",
       "      <td>P3</td>\n",
       "      <td>S2</td>\n",
       "      <td>S3</td>\n",
       "      <td>L3</td>\n",
       "      <td>copper</td>\n",
       "      <td>2</td>\n",
       "      <td>0.214</td>\n",
       "      <td>0.2</td>\n",
       "    </tr>\n",
       "    <tr>\n",
       "      <th>3</th>\n",
       "      <td>P4</td>\n",
       "      <td>S3</td>\n",
       "      <td>S4</td>\n",
       "      <td>L4</td>\n",
       "      <td>copper</td>\n",
       "      <td>2</td>\n",
       "      <td>0.122</td>\n",
       "      <td>0.2</td>\n",
       "    </tr>\n",
       "    <tr>\n",
       "      <th>4</th>\n",
       "      <td>P5</td>\n",
       "      <td>S1</td>\n",
       "      <td>R1</td>\n",
       "      <td>(L1, L2)</td>\n",
       "      <td>pex</td>\n",
       "      <td>25</td>\n",
       "      <td>0.061</td>\n",
       "      <td>0.2</td>\n",
       "    </tr>\n",
       "    <tr>\n",
       "      <th>5</th>\n",
       "      <td>P6</td>\n",
       "      <td>S2</td>\n",
       "      <td>R2</td>\n",
       "      <td>(L2, L3)</td>\n",
       "      <td>pex</td>\n",
       "      <td>25</td>\n",
       "      <td>0.183</td>\n",
       "      <td>0.2</td>\n",
       "    </tr>\n",
       "    <tr>\n",
       "      <th>6</th>\n",
       "      <td>P7</td>\n",
       "      <td>S3</td>\n",
       "      <td>R3</td>\n",
       "      <td>(L3, L4)</td>\n",
       "      <td>pex</td>\n",
       "      <td>15</td>\n",
       "      <td>0.092</td>\n",
       "      <td>0.2</td>\n",
       "    </tr>\n",
       "    <tr>\n",
       "      <th>7</th>\n",
       "      <td>P8</td>\n",
       "      <td>S4</td>\n",
       "      <td>R4</td>\n",
       "      <td>L4</td>\n",
       "      <td>pex</td>\n",
       "      <td>20</td>\n",
       "      <td>0.122</td>\n",
       "      <td>0.2</td>\n",
       "    </tr>\n",
       "    <tr>\n",
       "      <th>8</th>\n",
       "      <td>P9</td>\n",
       "      <td>R4</td>\n",
       "      <td>R3</td>\n",
       "      <td>L4</td>\n",
       "      <td>copper</td>\n",
       "      <td>2</td>\n",
       "      <td>0.122</td>\n",
       "      <td>0.2</td>\n",
       "    </tr>\n",
       "    <tr>\n",
       "      <th>9</th>\n",
       "      <td>P10</td>\n",
       "      <td>R3</td>\n",
       "      <td>R2</td>\n",
       "      <td>L3</td>\n",
       "      <td>copper</td>\n",
       "      <td>2</td>\n",
       "      <td>0.214</td>\n",
       "      <td>0.2</td>\n",
       "    </tr>\n",
       "    <tr>\n",
       "      <th>10</th>\n",
       "      <td>P11</td>\n",
       "      <td>R2</td>\n",
       "      <td>R1</td>\n",
       "      <td>L2</td>\n",
       "      <td>copper</td>\n",
       "      <td>2</td>\n",
       "      <td>0.397</td>\n",
       "      <td>0.2</td>\n",
       "    </tr>\n",
       "    <tr>\n",
       "      <th>11</th>\n",
       "      <td>P12</td>\n",
       "      <td>R1</td>\n",
       "      <td>R0</td>\n",
       "      <td>L1</td>\n",
       "      <td>copper</td>\n",
       "      <td>4</td>\n",
       "      <td>0.458</td>\n",
       "      <td>0.2</td>\n",
       "    </tr>\n",
       "  </tbody>\n",
       "</table></div>"
      ],
      "text/plain": [
       "<IPython.core.display.HTML object>"
      ]
     },
     "metadata": {},
     "output_type": "display_data"
    }
   ],
   "source": [
    "import pandas as pd\n",
    "\n",
    "table = pd.read_csv('./networks/ex1_closed-pipe-network-design.csv')\n",
    "ja.display_table(table)"
   ]
  },
  {
   "cell_type": "markdown",
   "id": "0ae812d0-e7e5-4cab-b541-4116a5e747aa",
   "metadata": {},
   "source": [
    "Inside the column *loop_ID*, we have specified the loop or loops to which each pipe in the network belongs. For example, pipe 5 belongs to two loops L1 and L2. You must enter the two loop IDs between brackets and separate them with a comma, otherwise the program will give an error. \n",
    "\n",
    "The sense of the volume flow rates in the pipes is referenced to the sense of the loop the pipes belong to. By convention a clock-wise loop sense is considered to be positive. If the arrow of the volume flow rate in a pipe points in the same direction as the loop arrow, the volume flow rate has a positive sign, otherwise you must give it a negative sign. In the case a pipe belongs to two loops, the sign of the volume flow rate is referenced to the positive sense of the first mentioned loop. In the second loop the flow sign will always be opposite to the flow sign in the first loop, as can be observed in the network scheme above."
   ]
  },
  {
   "cell_type": "markdown",
   "id": "a4594a76-7a07-44fe-a3d5-a8039a4b3937",
   "metadata": {},
   "source": [
    "## Analyze the Pipe Network"
   ]
  },
  {
   "cell_type": "markdown",
   "id": "3faca210-3d49-4332-98fc-167b9003b654",
   "metadata": {},
   "source": [
    "Once alle pipes have been assigned a loop ID, or two loop IDs, and the pseudo conduit has been added between the end node and the start node of the network, we can let the program analyze the network with the Hardy Cross method:"
   ]
  },
  {
   "cell_type": "code",
   "execution_count": 10,
   "id": "acd82c77-ccdc-47d4-9cc6-133e6eacb998",
   "metadata": {},
   "outputs": [
    {
     "data": {
      "text/plain": [
       "12"
      ]
     },
     "execution_count": 10,
     "metadata": {},
     "output_type": "execute_result"
    }
   ],
   "source": [
    "i = pipe_network.analyze(tolerance=Q_(1, 'Pa'), i_max=500)\n",
    "i"
   ]
  },
  {
   "cell_type": "markdown",
   "id": "8866d0f3-6ff9-4f88-a934-15bd1be9dc8e",
   "metadata": {},
   "source": [
    "The Hardy Cross method is an iterative solution method to find the volume flow rates in a fluid network. The aim is to find the volume flow rate in each pipe of the network, such that the sum of the pressure differences across the pipes in each loop of the network becomes zero (as demanded by the physical law about conservation of energy). As it may take numerous iterations to find a solution for which the loop pressure differences all become exactly zero, a stop criterium is provided by the `tolerance` parameter. A tolerance of 1 Pa means that the `analyze` method will stop when all loop pressure differences are between 0 and 1 Pa. The parameter `i_max` sets the maximum number of iterations. If no solution has been found within `i_max` iterations, an `OverflowError` excepction will be raised to alert that no solution could be found that fulfills the stop criterium. The volume flow rates we entered in the pipe configuration file are used by the program as an initial guess to start the iterative solving process. Here we use the design flow rates for which we have sized the network.\n",
    "\n",
    "> **IMPORTANT!**<br>\n",
    "> When we choose a volume flow rate for each pipe in the network, we must make sure that the sum of the flow rates that arrive at a node is equal to the sum of the flow rates that leave at this same node (as demanded by the physical law about conservation of mass)."
   ]
  },
  {
   "cell_type": "markdown",
   "id": "54c77702-876d-4c90-a076-c9e7ac714faa",
   "metadata": {},
   "source": [
    "When the `analyze` method is finished and has returned, we can take a look at the results:"
   ]
  },
  {
   "cell_type": "code",
   "execution_count": 12,
   "id": "b2b7a12d-a6e1-4b4d-b05a-f6a080dbd828",
   "metadata": {
    "tags": [
     "hide-input"
    ]
   },
   "outputs": [
    {
     "data": {
      "text/html": [
       "<div class=\"my_table\"><table border=\"1\" class=\"dataframe\">\n",
       "  <thead>\n",
       "    <tr style=\"text-align: right;\">\n",
       "      <th></th>\n",
       "      <th>pipe ID</th>\n",
       "      <th>L [m]</th>\n",
       "      <th>DN [mm]</th>\n",
       "      <th>Di [mm]</th>\n",
       "      <th>V [l/s]</th>\n",
       "      <th>v [m/s]</th>\n",
       "      <th>zeta</th>\n",
       "      <th>Re</th>\n",
       "      <th>Δp-dyn. [kPa]</th>\n",
       "    </tr>\n",
       "  </thead>\n",
       "  <tbody>\n",
       "    <tr>\n",
       "      <th>0</th>\n",
       "      <td>P1</td>\n",
       "      <td>4.0</td>\n",
       "      <td>35.0</td>\n",
       "      <td>32.0</td>\n",
       "      <td>0.458009</td>\n",
       "      <td>0.569488</td>\n",
       "      <td>0.007096</td>\n",
       "      <td>32946.314459</td>\n",
       "      <td>0.463940</td>\n",
       "    </tr>\n",
       "    <tr>\n",
       "      <th>1</th>\n",
       "      <td>P2</td>\n",
       "      <td>2.0</td>\n",
       "      <td>28.0</td>\n",
       "      <td>25.0</td>\n",
       "      <td>0.397008</td>\n",
       "      <td>0.808777</td>\n",
       "      <td>-0.011416</td>\n",
       "      <td>36554.548492</td>\n",
       "      <td>0.580817</td>\n",
       "    </tr>\n",
       "    <tr>\n",
       "      <th>2</th>\n",
       "      <td>P3</td>\n",
       "      <td>2.0</td>\n",
       "      <td>22.0</td>\n",
       "      <td>20.0</td>\n",
       "      <td>0.214003</td>\n",
       "      <td>0.681194</td>\n",
       "      <td>-0.037437</td>\n",
       "      <td>24630.493799</td>\n",
       "      <td>0.559739</td>\n",
       "    </tr>\n",
       "    <tr>\n",
       "      <th>3</th>\n",
       "      <td>P4</td>\n",
       "      <td>2.0</td>\n",
       "      <td>18.0</td>\n",
       "      <td>16.0</td>\n",
       "      <td>0.122002</td>\n",
       "      <td>0.606788</td>\n",
       "      <td>0.096462</td>\n",
       "      <td>17552.098316</td>\n",
       "      <td>0.629693</td>\n",
       "    </tr>\n",
       "    <tr>\n",
       "      <th>4</th>\n",
       "      <td>P5</td>\n",
       "      <td>25.0</td>\n",
       "      <td>18.0</td>\n",
       "      <td>14.0</td>\n",
       "      <td>0.061002</td>\n",
       "      <td>0.396274</td>\n",
       "      <td>434.804239</td>\n",
       "      <td>10029.882171</td>\n",
       "      <td>38.030197</td>\n",
       "    </tr>\n",
       "    <tr>\n",
       "      <th>5</th>\n",
       "      <td>P6</td>\n",
       "      <td>25.0</td>\n",
       "      <td>26.0</td>\n",
       "      <td>20.0</td>\n",
       "      <td>0.183004</td>\n",
       "      <td>0.582521</td>\n",
       "      <td>186.696474</td>\n",
       "      <td>21062.691816</td>\n",
       "      <td>36.689134</td>\n",
       "    </tr>\n",
       "    <tr>\n",
       "      <th>6</th>\n",
       "      <td>P7</td>\n",
       "      <td>15.0</td>\n",
       "      <td>20.0</td>\n",
       "      <td>16.0</td>\n",
       "      <td>0.092001</td>\n",
       "      <td>0.457578</td>\n",
       "      <td>315.569585</td>\n",
       "      <td>13236.018933</td>\n",
       "      <td>35.442611</td>\n",
       "    </tr>\n",
       "    <tr>\n",
       "      <th>7</th>\n",
       "      <td>P8</td>\n",
       "      <td>20.0</td>\n",
       "      <td>20.0</td>\n",
       "      <td>16.0</td>\n",
       "      <td>0.122002</td>\n",
       "      <td>0.606788</td>\n",
       "      <td>154.280699</td>\n",
       "      <td>17552.098316</td>\n",
       "      <td>34.185247</td>\n",
       "    </tr>\n",
       "    <tr>\n",
       "      <th>8</th>\n",
       "      <td>P9</td>\n",
       "      <td>2.0</td>\n",
       "      <td>18.0</td>\n",
       "      <td>16.0</td>\n",
       "      <td>0.122002</td>\n",
       "      <td>0.606788</td>\n",
       "      <td>0.084951</td>\n",
       "      <td>17552.098316</td>\n",
       "      <td>0.627599</td>\n",
       "    </tr>\n",
       "    <tr>\n",
       "      <th>9</th>\n",
       "      <td>P10</td>\n",
       "      <td>2.0</td>\n",
       "      <td>22.0</td>\n",
       "      <td>20.0</td>\n",
       "      <td>0.214003</td>\n",
       "      <td>0.681194</td>\n",
       "      <td>0.514415</td>\n",
       "      <td>24630.493799</td>\n",
       "      <td>0.686250</td>\n",
       "    </tr>\n",
       "    <tr>\n",
       "      <th>10</th>\n",
       "      <td>P11</td>\n",
       "      <td>2.0</td>\n",
       "      <td>28.0</td>\n",
       "      <td>25.0</td>\n",
       "      <td>0.397008</td>\n",
       "      <td>0.808777</td>\n",
       "      <td>0.543084</td>\n",
       "      <td>36554.548492</td>\n",
       "      <td>0.760010</td>\n",
       "    </tr>\n",
       "    <tr>\n",
       "      <th>11</th>\n",
       "      <td>P12</td>\n",
       "      <td>4.0</td>\n",
       "      <td>35.0</td>\n",
       "      <td>32.0</td>\n",
       "      <td>0.458009</td>\n",
       "      <td>0.569488</td>\n",
       "      <td>0.262696</td>\n",
       "      <td>32946.314459</td>\n",
       "      <td>0.504894</td>\n",
       "    </tr>\n",
       "  </tbody>\n",
       "</table></div>"
      ],
      "text/plain": [
       "<IPython.core.display.HTML object>"
      ]
     },
     "metadata": {},
     "output_type": "display_data"
    }
   ],
   "source": [
    "ja.display_table(pipe_network.get_pipe_table())"
   ]
  },
  {
   "cell_type": "markdown",
   "id": "df656331-f83b-48de-89c4-af456f122047",
   "metadata": {},
   "source": [
    "As could have been expected, the volume flow rates are still close to the initial design values, as we have added a fixed pressure rise of 39 kPa that is close to what was calculated when designing the network and because we haven't changed anything yet to the configuration of the pipe network."
   ]
  },
  {
   "cell_type": "code",
   "execution_count": 13,
   "id": "26d16841-721a-4cde-9a23-c0fa28257844",
   "metadata": {
    "tags": [
     "hide-input"
    ]
   },
   "outputs": [
    {
     "data": {
      "text/html": [
       "<div class=\"my_table\"><table border=\"1\" class=\"dataframe\">\n",
       "  <thead>\n",
       "    <tr style=\"text-align: right;\">\n",
       "      <th></th>\n",
       "      <th>path</th>\n",
       "      <th>Δp-elev. [kPa]</th>\n",
       "      <th>Δp-dyn. [kPa]</th>\n",
       "      <th>Δp-tot. [kPa]</th>\n",
       "      <th>Δp-deficit [kPa]</th>\n",
       "    </tr>\n",
       "  </thead>\n",
       "  <tbody>\n",
       "    <tr>\n",
       "      <th>0</th>\n",
       "      <td>P1|P2|P3|P4|P8|P9|P10|P11|P12</td>\n",
       "      <td>0.0</td>\n",
       "      <td>38.998188</td>\n",
       "      <td>38.998188</td>\n",
       "      <td>0.000843</td>\n",
       "    </tr>\n",
       "    <tr>\n",
       "      <th>1</th>\n",
       "      <td>P1|P5|P12</td>\n",
       "      <td>0.0</td>\n",
       "      <td>38.999031</td>\n",
       "      <td>38.999031</td>\n",
       "      <td>0.000000</td>\n",
       "    </tr>\n",
       "    <tr>\n",
       "      <th>2</th>\n",
       "      <td>P1|P2|P6|P11|P12</td>\n",
       "      <td>0.0</td>\n",
       "      <td>38.998794</td>\n",
       "      <td>38.998794</td>\n",
       "      <td>0.000237</td>\n",
       "    </tr>\n",
       "    <tr>\n",
       "      <th>3</th>\n",
       "      <td>P1|P2|P3|P7|P10|P11|P12</td>\n",
       "      <td>0.0</td>\n",
       "      <td>38.998260</td>\n",
       "      <td>38.998260</td>\n",
       "      <td>0.000771</td>\n",
       "    </tr>\n",
       "  </tbody>\n",
       "</table></div>"
      ],
      "text/plain": [
       "<IPython.core.display.HTML object>"
      ]
     },
     "metadata": {},
     "output_type": "display_data"
    }
   ],
   "source": [
    "ja.display_table(pipe_network.get_flow_path_table())"
   ]
  },
  {
   "cell_type": "markdown",
   "id": "a176976f-8617-4407-a625-450c097cced0",
   "metadata": {},
   "source": [
    "### Hydraulic Resistance of Pipe Network"
   ]
  },
  {
   "cell_type": "code",
   "execution_count": 14,
   "id": "daa514c9-db01-4f3a-adb6-a366eacb32fc",
   "metadata": {},
   "outputs": [
    {
     "data": {
      "text/html": [
       "<ul><li>network hydraulic resistance: <b>1.8591×10¹¹ Pa·s²/m⁶</b></li></ul>"
      ],
      "text/plain": [
       "<IPython.core.display.HTML object>"
      ]
     },
     "metadata": {},
     "output_type": "display_data"
    }
   ],
   "source": [
    "ja.display_list([\n",
    "    f\"network hydraulic resistance: <b>{pipe_network.hydraulic_resistance.to('Pa / (m ** 3 / s) ** 2'):~P.5g}</b>\"\n",
    "])"
   ]
  },
  {
   "cell_type": "code",
   "execution_count": 15,
   "id": "4a517add-fb0d-4085-854c-2881395b14a0",
   "metadata": {},
   "outputs": [],
   "source": [
    "system_curve1 = SystemCurve.create(pipe_network.hydraulic_resistance, name='system curve 1')"
   ]
  },
  {
   "cell_type": "markdown",
   "id": "166456ec-f075-4a34-8db5-4aa3785d6d27",
   "metadata": {},
   "source": [
    "We will this `SystemCurve` object later on when we will display different system curves of the pipe network."
   ]
  },
  {
   "cell_type": "markdown",
   "id": "28767fa8-0dc4-4b48-9f89-b5a292f85de2",
   "metadata": {},
   "source": [
    "## Effect of Closing Control Valves"
   ]
  },
  {
   "cell_type": "markdown",
   "id": "347537dc-79ba-4dae-b0d0-b358e31a794e",
   "metadata": {},
   "source": [
    "What will happen to the volume flow rates in the network when we close the control valves in cross-overs P6 and P7 to 50 % opening? To find this out, we first set the valve opening of these control valves to 50 % of the fully open position:"
   ]
  },
  {
   "cell_type": "code",
   "execution_count": 16,
   "id": "35aa3e13-a3fc-4183-822e-f6b9ed43ad34",
   "metadata": {},
   "outputs": [],
   "source": [
    "pipe_network.set_control_valve_opening('P6', percent_open=50)\n",
    "pipe_network.set_control_valve_opening('P7', percent_open=50)"
   ]
  },
  {
   "cell_type": "markdown",
   "id": "b722750b-62ca-48cd-8a72-50c6a4aeef20",
   "metadata": {},
   "source": [
    "Then we run the `analyze` method again:"
   ]
  },
  {
   "cell_type": "code",
   "execution_count": 17,
   "id": "80520cf4-01ea-41c6-aa0a-d5fa8cbef5b5",
   "metadata": {},
   "outputs": [
    {
     "data": {
      "text/plain": [
       "155"
      ]
     },
     "execution_count": 17,
     "metadata": {},
     "output_type": "execute_result"
    }
   ],
   "source": [
    "i = pipe_network.analyze(tolerance=Q_(1, 'Pa'), i_max=500)\n",
    "i"
   ]
  },
  {
   "cell_type": "markdown",
   "id": "709be3f0-4373-4111-ad46-792a17b1a751",
   "metadata": {},
   "source": [
    "Now can display the pipe table again, to check the volume flow rates in the network. "
   ]
  },
  {
   "cell_type": "code",
   "execution_count": 18,
   "id": "e60b26b1-90f8-49ea-99ce-e6bdffd1addd",
   "metadata": {
    "tags": [
     "hide-input"
    ]
   },
   "outputs": [
    {
     "data": {
      "text/html": [
       "<div class=\"my_table\"><table border=\"1\" class=\"dataframe\">\n",
       "  <thead>\n",
       "    <tr style=\"text-align: right;\">\n",
       "      <th></th>\n",
       "      <th>pipe ID</th>\n",
       "      <th>L [m]</th>\n",
       "      <th>DN [mm]</th>\n",
       "      <th>Di [mm]</th>\n",
       "      <th>V [l/s]</th>\n",
       "      <th>v [m/s]</th>\n",
       "      <th>zeta</th>\n",
       "      <th>Re</th>\n",
       "      <th>Δp-dyn. [kPa]</th>\n",
       "    </tr>\n",
       "  </thead>\n",
       "  <tbody>\n",
       "    <tr>\n",
       "      <th>0</th>\n",
       "      <td>P1</td>\n",
       "      <td>4.0</td>\n",
       "      <td>35.0</td>\n",
       "      <td>32.0</td>\n",
       "      <td>0.356759</td>\n",
       "      <td>0.443593</td>\n",
       "      <td>0.007096</td>\n",
       "      <td>25662.971166</td>\n",
       "      <td>0.298219</td>\n",
       "    </tr>\n",
       "    <tr>\n",
       "      <th>1</th>\n",
       "      <td>P2</td>\n",
       "      <td>2.0</td>\n",
       "      <td>28.0</td>\n",
       "      <td>25.0</td>\n",
       "      <td>0.295473</td>\n",
       "      <td>0.601933</td>\n",
       "      <td>-0.011416</td>\n",
       "      <td>27205.754582</td>\n",
       "      <td>0.344295</td>\n",
       "    </tr>\n",
       "    <tr>\n",
       "      <th>2</th>\n",
       "      <td>P3</td>\n",
       "      <td>2.0</td>\n",
       "      <td>22.0</td>\n",
       "      <td>20.0</td>\n",
       "      <td>0.175576</td>\n",
       "      <td>0.558877</td>\n",
       "      <td>-0.037437</td>\n",
       "      <td>20207.794106</td>\n",
       "      <td>0.395152</td>\n",
       "    </tr>\n",
       "    <tr>\n",
       "      <th>3</th>\n",
       "      <td>P4</td>\n",
       "      <td>2.0</td>\n",
       "      <td>18.0</td>\n",
       "      <td>16.0</td>\n",
       "      <td>0.124235</td>\n",
       "      <td>0.617895</td>\n",
       "      <td>0.096462</td>\n",
       "      <td>17873.388934</td>\n",
       "      <td>0.650165</td>\n",
       "    </tr>\n",
       "    <tr>\n",
       "      <th>4</th>\n",
       "      <td>P5</td>\n",
       "      <td>25.0</td>\n",
       "      <td>18.0</td>\n",
       "      <td>14.0</td>\n",
       "      <td>0.061285</td>\n",
       "      <td>0.398116</td>\n",
       "      <td>434.804239</td>\n",
       "      <td>10076.515197</td>\n",
       "      <td>38.379412</td>\n",
       "    </tr>\n",
       "    <tr>\n",
       "      <th>5</th>\n",
       "      <td>P6</td>\n",
       "      <td>25.0</td>\n",
       "      <td>26.0</td>\n",
       "      <td>20.0</td>\n",
       "      <td>0.119897</td>\n",
       "      <td>0.381643</td>\n",
       "      <td>486.754974</td>\n",
       "      <td>13799.399123</td>\n",
       "      <td>37.592559</td>\n",
       "    </tr>\n",
       "    <tr>\n",
       "      <th>6</th>\n",
       "      <td>P7</td>\n",
       "      <td>15.0</td>\n",
       "      <td>20.0</td>\n",
       "      <td>16.0</td>\n",
       "      <td>0.051341</td>\n",
       "      <td>0.255351</td>\n",
       "      <td>1108.298588</td>\n",
       "      <td>7386.353698</td>\n",
       "      <td>36.717880</td>\n",
       "    </tr>\n",
       "    <tr>\n",
       "      <th>7</th>\n",
       "      <td>P8</td>\n",
       "      <td>20.0</td>\n",
       "      <td>20.0</td>\n",
       "      <td>16.0</td>\n",
       "      <td>0.124235</td>\n",
       "      <td>0.617895</td>\n",
       "      <td>154.280699</td>\n",
       "      <td>17873.388934</td>\n",
       "      <td>35.420302</td>\n",
       "    </tr>\n",
       "    <tr>\n",
       "      <th>8</th>\n",
       "      <td>P9</td>\n",
       "      <td>2.0</td>\n",
       "      <td>18.0</td>\n",
       "      <td>16.0</td>\n",
       "      <td>0.124235</td>\n",
       "      <td>0.617895</td>\n",
       "      <td>0.084951</td>\n",
       "      <td>17873.388934</td>\n",
       "      <td>0.647994</td>\n",
       "    </tr>\n",
       "    <tr>\n",
       "      <th>9</th>\n",
       "      <td>P10</td>\n",
       "      <td>2.0</td>\n",
       "      <td>22.0</td>\n",
       "      <td>20.0</td>\n",
       "      <td>0.175576</td>\n",
       "      <td>0.558877</td>\n",
       "      <td>0.514415</td>\n",
       "      <td>20207.794106</td>\n",
       "      <td>0.480309</td>\n",
       "    </tr>\n",
       "    <tr>\n",
       "      <th>10</th>\n",
       "      <td>P11</td>\n",
       "      <td>2.0</td>\n",
       "      <td>28.0</td>\n",
       "      <td>25.0</td>\n",
       "      <td>0.295473</td>\n",
       "      <td>0.601933</td>\n",
       "      <td>0.543084</td>\n",
       "      <td>27205.754582</td>\n",
       "      <td>0.443552</td>\n",
       "    </tr>\n",
       "    <tr>\n",
       "      <th>11</th>\n",
       "      <td>P12</td>\n",
       "      <td>4.0</td>\n",
       "      <td>35.0</td>\n",
       "      <td>32.0</td>\n",
       "      <td>0.356759</td>\n",
       "      <td>0.443593</td>\n",
       "      <td>0.262696</td>\n",
       "      <td>25662.971166</td>\n",
       "      <td>0.323067</td>\n",
       "    </tr>\n",
       "  </tbody>\n",
       "</table></div>"
      ],
      "text/plain": [
       "<IPython.core.display.HTML object>"
      ]
     },
     "metadata": {},
     "output_type": "display_data"
    }
   ],
   "source": [
    "ja.display_table(pipe_network.get_pipe_table())"
   ]
  },
  {
   "cell_type": "code",
   "execution_count": 19,
   "id": "5a6f29a3-04a0-4bf1-b5f0-fccdf5258264",
   "metadata": {
    "tags": [
     "hide-input"
    ]
   },
   "outputs": [
    {
     "data": {
      "text/html": [
       "<div class=\"my_table\"><table border=\"1\" class=\"dataframe\">\n",
       "  <thead>\n",
       "    <tr style=\"text-align: right;\">\n",
       "      <th></th>\n",
       "      <th>path</th>\n",
       "      <th>Δp-elev. [kPa]</th>\n",
       "      <th>Δp-dyn. [kPa]</th>\n",
       "      <th>Δp-tot. [kPa]</th>\n",
       "      <th>Δp-deficit [kPa]</th>\n",
       "    </tr>\n",
       "  </thead>\n",
       "  <tbody>\n",
       "    <tr>\n",
       "      <th>0</th>\n",
       "      <td>P1|P2|P3|P4|P8|P9|P10|P11|P12</td>\n",
       "      <td>0.0</td>\n",
       "      <td>39.003055</td>\n",
       "      <td>39.003055</td>\n",
       "      <td>0.000000</td>\n",
       "    </tr>\n",
       "    <tr>\n",
       "      <th>1</th>\n",
       "      <td>P1|P5|P12</td>\n",
       "      <td>0.0</td>\n",
       "      <td>39.000698</td>\n",
       "      <td>39.000698</td>\n",
       "      <td>0.002357</td>\n",
       "    </tr>\n",
       "    <tr>\n",
       "      <th>2</th>\n",
       "      <td>P1|P2|P6|P11|P12</td>\n",
       "      <td>0.0</td>\n",
       "      <td>39.001692</td>\n",
       "      <td>39.001692</td>\n",
       "      <td>0.001363</td>\n",
       "    </tr>\n",
       "    <tr>\n",
       "      <th>3</th>\n",
       "      <td>P1|P2|P3|P7|P10|P11|P12</td>\n",
       "      <td>0.0</td>\n",
       "      <td>39.002474</td>\n",
       "      <td>39.002474</td>\n",
       "      <td>0.000581</td>\n",
       "    </tr>\n",
       "  </tbody>\n",
       "</table></div>"
      ],
      "text/plain": [
       "<IPython.core.display.HTML object>"
      ]
     },
     "metadata": {},
     "output_type": "display_data"
    }
   ],
   "source": [
    "ja.display_table(pipe_network.get_flow_path_table())"
   ]
  },
  {
   "cell_type": "markdown",
   "id": "ec7a7cbe-5878-4cae-82f3-3070123642a8",
   "metadata": {},
   "source": [
    "### Hydraulic Resistance of Pipe Network"
   ]
  },
  {
   "cell_type": "code",
   "execution_count": 20,
   "id": "bd9c967c-a313-4195-974c-9de374690d8e",
   "metadata": {},
   "outputs": [
    {
     "data": {
      "text/html": [
       "<ul><li>network hydraulic resistance: <b>3.0644×10¹¹ Pa·s²/m⁶</b></li></ul>"
      ],
      "text/plain": [
       "<IPython.core.display.HTML object>"
      ]
     },
     "metadata": {},
     "output_type": "display_data"
    }
   ],
   "source": [
    "ja.display_list([\n",
    "    f\"network hydraulic resistance: <b>{pipe_network.hydraulic_resistance.to('Pa / (m ** 3 / s) ** 2'):~P.5g}</b>\"\n",
    "])"
   ]
  },
  {
   "cell_type": "code",
   "execution_count": 21,
   "id": "e4471cbd-3a0b-45ea-b65b-e140fe9aa8a8",
   "metadata": {},
   "outputs": [],
   "source": [
    "system_curve2 = SystemCurve.create(pipe_network.hydraulic_resistance, name='system curve 2')"
   ]
  },
  {
   "cell_type": "markdown",
   "id": "eb8b3558-8b8e-45f4-9c2e-c4ad6a026cf5",
   "metadata": {},
   "source": [
    "## Plot the System Curves"
   ]
  },
  {
   "cell_type": "code",
   "execution_count": 22,
   "id": "fef5582f-a8a0-451c-9cdc-f51c8942ebf0",
   "metadata": {
    "tags": [
     "hide-input"
    ]
   },
   "outputs": [
    {
     "data": {
      "image/png": "[encoded data removed]",
      "text/plain": [
       "<Figure size 768x576 with 1 Axes>"
      ]
     },
     "metadata": {},
     "output_type": "display_data"
    }
   ],
   "source": [
    "chart = plot_curves(\n",
    "    pump_curves=[],\n",
    "    system_curves=[system_curve1, system_curve2],\n",
    "    working_point=None,\n",
    "    fig_size=(8, 6),\n",
    "    V_step=Q_(0.05, 'L / s'),\n",
    "    V_max=Q_(0.55, 'L / s'),\n",
    "    dP_step=Q_(5, 'kPa'),\n",
    "    dP_max=Q_(50, 'kPa'),\n",
    "    V_unit='L / s',\n",
    "    dP_unit='kPa'\n",
    ")\n",
    "\n",
    "chart.show()"
   ]
  },
  {
   "cell_type": "code",
   "execution_count": null,
   "id": "1cb37e3b-42fb-4a74-84fb-af4d29b59beb",
   "metadata": {},
   "outputs": [],
   "source": []
  }
 ],
 "metadata": {
  "kernelspec": {
   "display_name": "Python 3 (ipykernel)",
   "language": "python",
   "name": "python3"
  },
  "language_info": {
   "codemirror_mode": {
    "name": "ipython",
    "version": 3
   },
   "file_extension": ".py",
   "mimetype": "text/x-python",
   "name": "python",
   "nbconvert_exporter": "python",
   "pygments_lexer": "ipython3",
   "version": "3.10.4"
  }
 },
 "nbformat": 4,
 "nbformat_minor": 5
}
