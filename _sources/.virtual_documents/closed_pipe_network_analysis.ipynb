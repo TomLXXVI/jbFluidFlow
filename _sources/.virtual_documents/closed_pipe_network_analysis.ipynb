from deps import load_packages
load_packages()


import jupyter_addons as ja
ja.set_css()


from hvac import Quantity
from hvac.fluid_flow import load_network, PseudoConduit, SystemCurve
from hvac.fluid_flow.utils import plot_curves


Q_ = Quantity


file_path = "./networks/hydronic_network.pickle"


pipe_network = load_network(file_path)


pseudo_conduit = PseudoConduit.create(fixed_pressure_drop=Q_(-39, 'kPa'))


pipe_network.add_conduit(
    conduit=pseudo_conduit,
    conduit_ID='P13',
    start_node_ID='R0',
    end_node_ID='S0',
    loop_ID='L1'
)


import pandas as pd

table = pd.read_csv('./networks/ex1_closed-pipe-network-design.csv')
ja.display_table(table)


i = pipe_network.analyze(tolerance=Q_(1, 'Pa'), i_max=500)
i


pipe_table1 = pipe_network.get_pipe_table()
ja.display_table(pipe_table1)


ja.display_table(pipe_network.get_flow_path_table())


ja.display_list([
    f"network hydraulic resistance: <b>{pipe_network.hydraulic_resistance.to('Pa / (m ** 3 / s) ** 2'):~P.5g}</b>"
])


system_curve1 = SystemCurve.create(pipe_network.hydraulic_resistance, name='system curve 1')


pipe_network.set_control_valve_opening('P6', percent_open=50)
pipe_network.set_control_valve_opening('P7', percent_open=50)


i = pipe_network.analyze(tolerance=Q_(1, 'Pa'), i_max=500)
i


pipe_table2 = pipe_network.get_pipe_table()
ja.display_table(pipe_table2)


ja.display_table(pipe_network.get_flow_path_table())


data = {
    'pipe_IDs': pipe_table1.iloc[:, 0].copy(),
    'V_1': pipe_table1.iloc[:, 4].copy(),
    'V_2': pipe_table2.iloc[:, 4].copy()
}
comp_table = pd.DataFrame(data)
comp_table['abs. difference'] = comp_table['V_2'] - comp_table['V_1']
comp_table['% difference'] = comp_table['abs. difference'] / comp_table['V_1'] * 100
ja.display_table(comp_table)


ja.display_list([
    f"network hydraulic resistance: <b>{pipe_network.hydraulic_resistance.to('Pa / (m ** 3 / s) ** 2'):~P.5g}</b>"
])


system_curve2 = SystemCurve.create(pipe_network.hydraulic_resistance, name='system curve 2')


chart = plot_curves(
    pump_curves=[],
    system_curves=[system_curve1, system_curve2],
    working_point=None,
    fig_size=(8, 6),
    V_step=Q_(0.05, 'L / s'),
    V_max=Q_(0.55, 'L / s'),
    dP_step=Q_(5, 'kPa'),
    dP_max=Q_(50, 'kPa'),
    V_unit='L / s',
    dP_unit='kPa'
)

chart.show()



