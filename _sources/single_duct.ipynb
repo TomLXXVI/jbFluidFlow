{
 "cells": [
  {
   "cell_type": "markdown",
   "id": "132c2d6c-42aa-48c6-822c-813b0ee57a64",
   "metadata": {},
   "source": [
    "# Air Flow through a Duct\n",
    "---"
   ]
  },
  {
   "cell_type": "markdown",
   "id": "cf315852-32d0-4494-afc7-5940e7964f25",
   "metadata": {},
   "source": [
    "In this notebook it is shown how to size a single air duct using the package `fluid_flow` which is part of the main package `hvac`."
   ]
  },
  {
   "cell_type": "code",
   "execution_count": 1,
   "id": "906faaaa-965d-4819-9c11-9918d655933a",
   "metadata": {
    "jupyter": {
     "source_hidden": true
    },
    "tags": [
     "remove-cell"
    ]
   },
   "outputs": [],
   "source": [
    "from deps import load_packages\n",
    "load_packages()"
   ]
  },
  {
   "cell_type": "code",
   "execution_count": 2,
   "id": "765ad0aa-f062-4c24-bf75-a541d2905f8d",
   "metadata": {
    "jupyter": {
     "source_hidden": true
    },
    "tags": [
     "remove-cell"
    ]
   },
   "outputs": [
    {
     "data": {
      "text/html": [
       "<style>.my_table {\n",
       "    display: flex;\n",
       "    justify-content: center;\n",
       "}\n",
       "\n",
       ".my_table table {\n",
       "    border: 1px solid #ddd;\n",
       "}\n",
       "\n",
       ".my_table th, .my_table td {\n",
       "    padding: 8px;\n",
       "    border: 1px solid #ddd;\n",
       "    font-size: 1.25em;\n",
       "}\n",
       "\n",
       ".my_table td {\n",
       "    text-align: left;\n",
       "}\n",
       "\n",
       ".my_table th {\n",
       "    text-align: center;\n",
       "}\n",
       "\n",
       ".jp-Cell-outputArea {\n",
       "    box-shadow: none !important;\n",
       "}\n",
       "</style><p>Loaded <code>my_styles.css</code></p>"
      ],
      "text/plain": [
       "<IPython.core.display.HTML object>"
      ]
     },
     "execution_count": 2,
     "metadata": {},
     "output_type": "execute_result"
    }
   ],
   "source": [
    "import jupyter_addons as ja\n",
    "ja.set_css()"
   ]
  },
  {
   "cell_type": "markdown",
   "id": "db8f9f85-fb35-4776-8a04-1fb452a5d273",
   "metadata": {
    "tags": []
   },
   "source": [
    "## Let's Import What We'll Need"
   ]
  },
  {
   "cell_type": "code",
   "execution_count": 3,
   "id": "89b04de9-1497-4049-aed1-f6c5db980154",
   "metadata": {},
   "outputs": [],
   "source": [
    "from hvac import Quantity\n",
    "from hvac.fluid_flow import Duct, Rectangular\n",
    "from hvac.fluids import Fluid"
   ]
  },
  {
   "cell_type": "markdown",
   "id": "7ca81e17-ca26-4772-b30d-4ac9361f910e",
   "metadata": {},
   "source": [
    "We define a shortcut for instantiating `Quantity` objects:"
   ]
  },
  {
   "cell_type": "code",
   "execution_count": 4,
   "id": "bea86baf-9f39-4b02-afa6-2d646d8270cb",
   "metadata": {},
   "outputs": [],
   "source": [
    "Q_ = Quantity"
   ]
  },
  {
   "cell_type": "markdown",
   "id": "7ac7f4cd-e219-4bb9-8d57-af8ae336a9c1",
   "metadata": {},
   "source": [
    "## Define Standard Dry Air"
   ]
  },
  {
   "cell_type": "markdown",
   "id": "d59b5f22-ef52-4e44-b85a-5273419374f7",
   "metadata": {},
   "source": [
    "We use standard dry air for sizing the duct. The code below shows how standard air is defined. "
   ]
  },
  {
   "cell_type": "code",
   "execution_count": 5,
   "id": "09a654ea-e54a-41be-822f-fb92c740fe46",
   "metadata": {},
   "outputs": [],
   "source": [
    "Air = Fluid('Air')\n",
    "STANDARD_AIR = Air(T=Q_(20, 'degC'), P=Q_(101_325, 'Pa'))"
   ]
  },
  {
   "cell_type": "markdown",
   "id": "5725d86a-85c4-464f-8e70-d486e5cdf515",
   "metadata": {},
   "source": [
    "## Sizing a Rectangular Duct"
   ]
  },
  {
   "cell_type": "markdown",
   "id": "4b82473b-47fd-4c64-8244-50a7e2f6ce5e",
   "metadata": {},
   "source": [
    "A duct has a cross-section. Three types of cross-section are available:\n",
    "- circular\n",
    "- rectangular\n",
    "- flat-oval\n",
    "\n",
    "Here we will size a rectangular duct. The height of the rectangular cross-section must be known beforehand. The width will then be calculated. To create a rectangular cross-section with a height of 100 mm, we write:"
   ]
  },
  {
   "cell_type": "code",
   "execution_count": 6,
   "id": "014a2213-0d42-41cf-ac96-0caf4f83d128",
   "metadata": {},
   "outputs": [],
   "source": [
    "cross_section = Rectangular.create(height=Q_(100, 'mm'))"
   ]
  },
  {
   "cell_type": "markdown",
   "id": "d087c4a1-f075-403e-ac13-92dcd201bee5",
   "metadata": {},
   "source": [
    "The required width of the duct will depend on the design volume flow rate through the duct and the selected specific pressure drop (i.e. per unit of duct length). To size a duct we need to specify:\n",
    "- the length of the duct\n",
    "- wall roughness (for a galvanized steel duct with medium roughness this is 0.09 mm)\n",
    "- the fluid that flows through the duct (in this case standard air as defined above)\n",
    "- the cross-section (of which the required width needs to be determined)\n",
    "- the volume flow rate of the fluid through the duct\n",
    "- either the specific pressure drop or the total pressure drop across the straight length of duct; in this example a specific pressure drop will be specified."
   ]
  },
  {
   "cell_type": "code",
   "execution_count": 7,
   "id": "d0cb0bc1-44dd-4626-a157-20ce7817ab9d",
   "metadata": {},
   "outputs": [],
   "source": [
    "duct = Duct.create(\n",
    "    length=Q_(18.2, 'm'),\n",
    "    wall_roughness=Q_(0.09, 'mm'),\n",
    "    fluid=STANDARD_AIR,\n",
    "    cross_section=cross_section,\n",
    "    volume_flow_rate=Q_(500, 'm ** 3 / hr'),\n",
    "    specific_pressure_drop=Q_(1.28, 'Pa / m')\n",
    ")"
   ]
  },
  {
   "cell_type": "markdown",
   "id": "31cbc29b-0785-48c3-863e-28099d848e14",
   "metadata": {},
   "source": [
    "Once the duct is created with the parameters above, we can retrieve the required width of the duct's cross-section through the `cross_section` property of the `Duct` object:"
   ]
  },
  {
   "cell_type": "code",
   "execution_count": 8,
   "id": "8b45b7bd-de16-4e4b-a397-b4f7afc6b79c",
   "metadata": {},
   "outputs": [
    {
     "data": {
      "text/html": [
       "<ul><li>cross-section width of duct: <b>370.567 mm</b></li></ul>"
      ],
      "text/plain": [
       "<IPython.core.display.HTML object>"
      ]
     },
     "metadata": {},
     "output_type": "display_data"
    }
   ],
   "source": [
    "ja.display_list([\n",
    "    f\"cross-section width of duct: <b>{duct.cross_section.width.to('mm'):~P.3f}</b>\"\n",
    "])"
   ]
  },
  {
   "cell_type": "markdown",
   "id": "c39336ec-7ff9-440d-960c-e816ec53e6a1",
   "metadata": {},
   "source": [
    "The equivalent diameter, hydraulic diameter, and the cross-section area of the duct can also be requested:"
   ]
  },
  {
   "cell_type": "code",
   "execution_count": 9,
   "id": "dd713063-6580-4252-a1fa-1ff4f2a9e70d",
   "metadata": {},
   "outputs": [
    {
     "data": {
      "text/html": [
       "<ul><li>equivalent diameter: <b>200.138 mm</b></li><li>hydraulic diameter: <b>157.498 mm</b></li><li>cross-section area: <b>370.567 cm²</b></li></ul>"
      ],
      "text/plain": [
       "<IPython.core.display.HTML object>"
      ]
     },
     "metadata": {},
     "output_type": "display_data"
    }
   ],
   "source": [
    "ja.display_list([\n",
    "    f\"equivalent diameter: <b>{duct.cross_section.equivalent_diameter.to('mm'):~P.3f}</b>\",\n",
    "    f\"hydraulic diameter: <b>{duct.cross_section.hydraulic_diameter.to('mm'):~P.3f}</b>\",\n",
    "    f\"cross-section area: <b>{duct.cross_section.area.to('cm ** 2'):~P.3f}</b>\"\n",
    "])"
   ]
  },
  {
   "cell_type": "markdown",
   "id": "4f8680a7-14c7-4b68-aa73-0f87648e4c38",
   "metadata": {},
   "source": [
    "The total (friction) pressure drop over the whole length of duct can be attained by:"
   ]
  },
  {
   "cell_type": "code",
   "execution_count": 10,
   "id": "aab2e080-7a17-4701-a75e-33ada788a50f",
   "metadata": {},
   "outputs": [
    {
     "data": {
      "text/html": [
       "<ul><li>pressure drop: <b>23.296 Pa</b></li></ul>"
      ],
      "text/plain": [
       "<IPython.core.display.HTML object>"
      ]
     },
     "metadata": {},
     "output_type": "display_data"
    }
   ],
   "source": [
    "ja.display_list([\n",
    "    f\"pressure drop: <b>{duct.pressure_drop.to('Pa'):~P.3f}</b>\"\n",
    "])"
   ]
  },
  {
   "cell_type": "markdown",
   "id": "fe42e461-98e7-44fd-bdcf-f7c77c4c74e6",
   "metadata": {},
   "source": [
    "### Sizing a Rectangular Duct with a Schedule"
   ]
  },
  {
   "cell_type": "markdown",
   "id": "363413d1-ebac-46b7-b453-5e87bc21a1f5",
   "metadata": {},
   "source": [
    "In order to get a cross-section of the duct which is commercially available, we will couple a \"schedule\" (an instance of the `DuctSchedule` class) with the cross-section. For rectangular ducts a default schedule is available:"
   ]
  },
  {
   "cell_type": "code",
   "execution_count": 40,
   "id": "f20e63ab-c280-40a5-8c48-afd3f101bf02",
   "metadata": {},
   "outputs": [],
   "source": [
    "from hvac.fluid_flow import rectangular_duct_schedule"
   ]
  },
  {
   "cell_type": "markdown",
   "id": "4c0d6891-3307-43c2-85e1-d202cb195b57",
   "metadata": {},
   "source": [
    "To indicate that we want the nearest commercially available width, we add the parameter `schedule` when creating the cross-section:"
   ]
  },
  {
   "cell_type": "code",
   "execution_count": 14,
   "id": "c49bb367-b10d-4037-bd55-bc26f32fbd3d",
   "metadata": {},
   "outputs": [],
   "source": [
    "cross_section = Rectangular.create(height=Q_(100, 'mm'), schedule=rectangular_duct_schedule)"
   ]
  },
  {
   "cell_type": "markdown",
   "id": "0b798118-f7bf-4fcd-a27e-d85a5ff670bb",
   "metadata": {},
   "source": [
    "Now we create the duct like before:"
   ]
  },
  {
   "cell_type": "code",
   "execution_count": 15,
   "id": "b5038c2f-471c-4aba-8be7-ed69b88e9bd0",
   "metadata": {},
   "outputs": [],
   "source": [
    "duct = Duct.create(\n",
    "    length=Q_(18.2, 'm'),\n",
    "    wall_roughness=Q_(0.09, 'mm'),\n",
    "    fluid=STANDARD_AIR,\n",
    "    cross_section=cross_section,\n",
    "    volume_flow_rate=Q_(500, 'm ** 3 / hr'),\n",
    "    specific_pressure_drop=Q_(1.28, 'Pa / m')\n",
    ")"
   ]
  },
  {
   "cell_type": "code",
   "execution_count": 16,
   "id": "99e16697-8f63-47b3-9611-97c46417ec87",
   "metadata": {},
   "outputs": [
    {
     "data": {
      "text/html": [
       "<ul><li>cross-section width of duct: <b>350.0 mm</b></li></ul>"
      ],
      "text/plain": [
       "<IPython.core.display.HTML object>"
      ]
     },
     "metadata": {},
     "output_type": "display_data"
    }
   ],
   "source": [
    "ja.display_list([\n",
    "    f\"cross-section width of duct: <b>{duct.cross_section.width.to('mm'):~P.1f}</b>\"\n",
    "])"
   ]
  },
  {
   "cell_type": "code",
   "execution_count": 17,
   "id": "e84f8356-b888-4d8e-a42a-f1c680676503",
   "metadata": {},
   "outputs": [
    {
     "data": {
      "text/html": [
       "<ul><li>equivalent diameter: <b>195.291 mm</b></li><li>hydraulic diameter: <b>155.556 mm</b></li><li>cross-section area: <b>350.000 cm²</b></li></ul>"
      ],
      "text/plain": [
       "<IPython.core.display.HTML object>"
      ]
     },
     "metadata": {},
     "output_type": "display_data"
    }
   ],
   "source": [
    "ja.display_list([\n",
    "    f\"equivalent diameter: <b>{duct.cross_section.equivalent_diameter.to('mm'):~P.3f}</b>\",\n",
    "    f\"hydraulic diameter: <b>{duct.cross_section.hydraulic_diameter.to('mm'):~P.3f}</b>\",\n",
    "    f\"cross-section area: <b>{duct.cross_section.area.to('cm ** 2'):~P.3f}</b>\"\n",
    "])"
   ]
  },
  {
   "cell_type": "markdown",
   "id": "67094ef9-19aa-4636-9baf-6beb447a534a",
   "metadata": {},
   "source": [
    "As the commercially available width is different from the calculated value, the specific pressure drop that we've initially specified won't be valid anymore:"
   ]
  },
  {
   "cell_type": "code",
   "execution_count": 18,
   "id": "889782f3-776f-4646-9c26-2011f6e270e7",
   "metadata": {},
   "outputs": [
    {
     "data": {
      "text/html": [
       "<ul><li>specific pressure drop across duct: <b>1.439 Pa/m</b></li><li>pressure drop across duct: <b>26.190 Pa</b></li></ul>"
      ],
      "text/plain": [
       "<IPython.core.display.HTML object>"
      ]
     },
     "metadata": {},
     "output_type": "display_data"
    }
   ],
   "source": [
    "ja.display_list([\n",
    "    f\"specific pressure drop across duct: <b>{duct.specific_pressure_drop.to('Pa / m'):~P.3f}</b>\",\n",
    "    f\"pressure drop across duct: <b>{duct.pressure_drop.to('Pa'):~P.3f}</b>\"\n",
    "])"
   ]
  },
  {
   "cell_type": "markdown",
   "id": "a05e3405-c32f-4f12-91f3-bdb84fa21128",
   "metadata": {},
   "source": [
    "Other flow quantities that can be retrieved after the duct has been created, are:"
   ]
  },
  {
   "cell_type": "code",
   "execution_count": 20,
   "id": "776272b0-4702-43a5-b2bc-34f77a9f0ce6",
   "metadata": {},
   "outputs": [
    {
     "data": {
      "text/html": [
       "<ul><li>the air velocity in the duct: <b>3.968 m/s</b></li><li>the reynolds number: <b>40842.480</b></li><li>the velocity pressure: <b>9.484 Pa</b></li></ul>"
      ],
      "text/plain": [
       "<IPython.core.display.HTML object>"
      ]
     },
     "metadata": {},
     "output_type": "display_data"
    }
   ],
   "source": [
    "ja.display_list([\n",
    "    f\"the air velocity in the duct: <b>{duct.velocity.to('m / s'):~P.3f}</b>\",\n",
    "    f\"the reynolds number: <b>{duct.reynolds_number:.3f}</b>\",\n",
    "    f\"the velocity pressure: <b>{duct.velocity_pressure:~P.3f}</b>\"\n",
    "])"
   ]
  },
  {
   "cell_type": "markdown",
   "id": "9f269c84-45fb-499b-a2ef-bcd8a9e89db9",
   "metadata": {},
   "source": [
    "## Air Volume Flow Rate through a Rectangular Duct"
   ]
  },
  {
   "cell_type": "markdown",
   "id": "847c3f6f-604e-4663-9b03-7f8a6cb6ddfc",
   "metadata": {},
   "source": [
    "Let's keep the duct from the example above. Suppose that a pressure drop of 50 Pa exists along the duct. The question is now what air volume flow rate is causing this pressure drop."
   ]
  },
  {
   "cell_type": "code",
   "execution_count": 21,
   "id": "fbdd6b5a-a523-4645-aabf-70a8d934bca6",
   "metadata": {},
   "outputs": [],
   "source": [
    "duct.pressure_drop = Q_(50, 'Pa')"
   ]
  },
  {
   "cell_type": "code",
   "execution_count": 22,
   "id": "ee10bb19-8339-46f5-9084-b361f111a92e",
   "metadata": {},
   "outputs": [
    {
     "data": {
      "text/html": [
       "<ul><li>volume flow rate through duct = <b>711.3 m³/h</b></li></ul>"
      ],
      "text/plain": [
       "<IPython.core.display.HTML object>"
      ]
     },
     "metadata": {},
     "output_type": "display_data"
    }
   ],
   "source": [
    "ja.display_list([\n",
    "    f\"volume flow rate through duct = <b>{duct.volume_flow_rate.to('m ** 3 / hr'):~P.1f}</b>\"\n",
    "])"
   ]
  },
  {
   "cell_type": "markdown",
   "id": "e811c1b3-2e3a-4554-bfe5-5424e90ed7ca",
   "metadata": {},
   "source": [
    "## Sizing a Circular Duct"
   ]
  },
  {
   "cell_type": "markdown",
   "id": "903dce90-6dbe-42ed-b35e-7f292c6787a8",
   "metadata": {},
   "source": [
    "When sizing a circular duct for a given design volume flow rate and pressure drop, the only thing we know is that the duct has a circular cross-section. A circular cross-section is represented by the `Circular` class."
   ]
  },
  {
   "cell_type": "code",
   "execution_count": 23,
   "id": "fe3115b2-7a68-4231-83c4-15ee31bec79c",
   "metadata": {},
   "outputs": [],
   "source": [
    "from hvac.fluid_flow import Circular"
   ]
  },
  {
   "cell_type": "markdown",
   "id": "66f712bf-5edc-4c33-9603-4790cb7f4914",
   "metadata": {},
   "source": [
    "Simply call `create` on the `Circular` class to create the cross-section:"
   ]
  },
  {
   "cell_type": "code",
   "execution_count": 25,
   "id": "aea04ced-4ad4-4671-af0a-a8b19391b3b9",
   "metadata": {},
   "outputs": [],
   "source": [
    "cross_section = Circular.create()"
   ]
  },
  {
   "cell_type": "markdown",
   "id": "64c7fe4d-45a7-4952-a8bc-8cb11b0e52a3",
   "metadata": {},
   "source": [
    "Using the same design values as for the rectangular duct above, we create the circular duct in exactly the same way:"
   ]
  },
  {
   "cell_type": "code",
   "execution_count": 26,
   "id": "14013a82-be2c-4b57-b9f8-f3085041afa7",
   "metadata": {},
   "outputs": [],
   "source": [
    "duct = Duct.create(\n",
    "    length=Q_(18.2, 'm'),\n",
    "    wall_roughness=Q_(0.09, 'mm'),\n",
    "    fluid=STANDARD_AIR,\n",
    "    cross_section=cross_section,\n",
    "    volume_flow_rate=Q_(500, 'm ** 3 / hr'),\n",
    "    specific_pressure_drop=Q_(1.28, 'Pa / m')\n",
    ")"
   ]
  },
  {
   "cell_type": "markdown",
   "id": "0f659dca-c103-4ae2-a135-cef23046db31",
   "metadata": {},
   "source": [
    "To get at the required internal diameter to establish the requested specific pressure drop at the design volume flow rate, we write: "
   ]
  },
  {
   "cell_type": "code",
   "execution_count": 27,
   "id": "c58d2e61-a8f0-42a5-b363-2912a2a89958",
   "metadata": {},
   "outputs": [
    {
     "data": {
      "text/html": [
       "<ul><li>cross-section internal diameter: <b>200.138 mm</b></li></ul>"
      ],
      "text/plain": [
       "<IPython.core.display.HTML object>"
      ]
     },
     "metadata": {},
     "output_type": "display_data"
    }
   ],
   "source": [
    "ja.display_list([\n",
    "    f\"cross-section internal diameter: <b>{duct.cross_section.internal_diameter.to('mm'):~P.3f}</b>\"\n",
    "])"
   ]
  },
  {
   "cell_type": "markdown",
   "id": "303f9d68-b62c-4fcc-b69c-7459a420191d",
   "metadata": {},
   "source": [
    "A circular cross-section also has the equivalent and hydraulic diameter being defined; obviously they are equal to the internal diameter."
   ]
  },
  {
   "cell_type": "code",
   "execution_count": 28,
   "id": "52f54a2a-bdd6-45ce-b6e2-54939f6e5a1e",
   "metadata": {},
   "outputs": [
    {
     "data": {
      "text/html": [
       "<ul><li>equivalent diameter: <b>200.138 mm</b></li><li>hydraulic diameter: <b>200.138 mm</b></li><li>cross-section area: <b>314.593 cm²</b></li></ul>"
      ],
      "text/plain": [
       "<IPython.core.display.HTML object>"
      ]
     },
     "metadata": {},
     "output_type": "display_data"
    }
   ],
   "source": [
    "ja.display_list([\n",
    "    f\"equivalent diameter: <b>{duct.cross_section.equivalent_diameter.to('mm'):~P.3f}</b>\",\n",
    "    f\"hydraulic diameter: <b>{duct.cross_section.hydraulic_diameter.to('mm'):~P.3f}</b>\",\n",
    "    f\"cross-section area: <b>{duct.cross_section.area.to('cm ** 2'):~P.3f}</b>\"\n",
    "])"
   ]
  },
  {
   "cell_type": "markdown",
   "id": "99e7a7d5-12cf-4f3c-b6aa-946151c021d5",
   "metadata": {},
   "source": [
    "As the length of the circular duct is the same as that of the rectangular duct, and as we have used the same specific pressure drop, the total pressure drop along the circular duct should be equal to the total pressure drop along the rectangular duct: "
   ]
  },
  {
   "cell_type": "code",
   "execution_count": 29,
   "id": "b8e0f63e-b1e6-40c1-bda2-db16e3ff20ac",
   "metadata": {},
   "outputs": [
    {
     "data": {
      "text/html": [
       "<ul><li>pressure drop: <b>23.296 Pa</b></li></ul>"
      ],
      "text/plain": [
       "<IPython.core.display.HTML object>"
      ]
     },
     "metadata": {},
     "output_type": "display_data"
    }
   ],
   "source": [
    "ja.display_list([\n",
    "    f\"pressure drop: <b>{duct.pressure_drop.to('Pa'):~P.3f}</b>\"\n",
    "])"
   ]
  },
  {
   "cell_type": "markdown",
   "id": "90ac0a39-1025-4b77-84dd-9a20956c731e",
   "metadata": {},
   "source": [
    "> Notice that the equivalent diameter of the rectangular duct in the previous example matches with the internal diameter of the circular duct."
   ]
  },
  {
   "cell_type": "markdown",
   "id": "2860233a-7786-404a-9114-9f7d0e2ff7fe",
   "metadata": {},
   "source": [
    "### Sizing a Circular Duct with a Schedule"
   ]
  },
  {
   "cell_type": "markdown",
   "id": "54bdef9e-f0e0-45c6-af20-f3a4c8c33f61",
   "metadata": {},
   "source": [
    "In the same way as for the rectangular duct, we can assign a \"schedule\" to the cross-section of a circular duct in order to retrieve an internal diameter of the duct that is commercially available."
   ]
  },
  {
   "cell_type": "code",
   "execution_count": 30,
   "id": "ed4fe04d-6b3e-49f4-86a2-f8ae60f4ae57",
   "metadata": {},
   "outputs": [],
   "source": [
    "from hvac.fluid_flow import circular_duct_schedule"
   ]
  },
  {
   "cell_type": "code",
   "execution_count": 34,
   "id": "e9307c87-e21d-4b7b-8c12-5c6a5b5cc843",
   "metadata": {},
   "outputs": [
    {
     "data": {
      "text/html": [
       "<ul><li>cross-section internal diameter: <b>200.000 mm</b></li></ul>"
      ],
      "text/plain": [
       "<IPython.core.display.HTML object>"
      ]
     },
     "metadata": {},
     "output_type": "display_data"
    }
   ],
   "source": [
    "cross_section = Circular.create(schedule=circular_duct_schedule)\n",
    "\n",
    "duct = Duct.create(\n",
    "    length=Q_(18.2, 'm'),\n",
    "    wall_roughness=Q_(0.09, 'mm'),\n",
    "    fluid=STANDARD_AIR,\n",
    "    cross_section=cross_section,\n",
    "    volume_flow_rate=Q_(500, 'm ** 3 / hr'),\n",
    "    specific_pressure_drop=Q_(1.28, 'Pa / m')\n",
    ")\n",
    "\n",
    "ja.display_list([\n",
    "    f\"cross-section internal diameter: <b>{duct.cross_section.internal_diameter.to('mm'):~P.3f}</b>\"\n",
    "])"
   ]
  },
  {
   "cell_type": "code",
   "execution_count": 35,
   "id": "198dead4-7ae1-41b4-8bcd-c595877beac3",
   "metadata": {},
   "outputs": [
    {
     "data": {
      "text/html": [
       "<ul><li>specific pressure drop across duct: <b>1.284 Pa/m</b></li><li>pressure drop across duct: <b>23.372 Pa</b></li></ul>"
      ],
      "text/plain": [
       "<IPython.core.display.HTML object>"
      ]
     },
     "metadata": {},
     "output_type": "display_data"
    }
   ],
   "source": [
    "ja.display_list([\n",
    "    f\"specific pressure drop across duct: <b>{duct.specific_pressure_drop.to('Pa / m'):~P.3f}</b>\",\n",
    "    f\"pressure drop across duct: <b>{duct.pressure_drop.to('Pa'):~P.3f}</b>\"\n",
    "])"
   ]
  },
  {
   "cell_type": "markdown",
   "id": "5d0b0fee-8ca1-461b-b960-7a326eed0665",
   "metadata": {},
   "source": [
    "### Replace a Circular Duct by an Equivalent Rectangular Duct"
   ]
  },
  {
   "cell_type": "markdown",
   "id": "d81476a0-797e-4340-89ae-8e57957a8192",
   "metadata": {},
   "source": [
    "Assume that we need to replace this circular duct by a rectangular duct while keeping the pressure drop the same. To accomplish this, we can create a rectangular cross-section of which the equivalent diameter is equal to the internal diameter of the circular duct. The height of the rectangular duct we can choose ourselves, but the width still needs to be calculated."
   ]
  },
  {
   "cell_type": "code",
   "execution_count": 37,
   "id": "2b050013-3482-4500-8426-81c1e12ca2f6",
   "metadata": {},
   "outputs": [
    {
     "data": {
      "text/html": [
       "<ul><li>width of the equivalent rectangular duct: <b>369.970 mm</b></li></ul>"
      ],
      "text/plain": [
       "<IPython.core.display.HTML object>"
      ]
     },
     "metadata": {},
     "output_type": "display_data"
    }
   ],
   "source": [
    "rect_cross_sect = Rectangular.create(height=Q_(100, 'mm'), equivalent_diameter=cross_section.internal_diameter)\n",
    "\n",
    "ja.display_list([\n",
    "    f\"width of the equivalent rectangular duct: <b>{rect_cross_sect.width.to('mm'):~P.3f}</b>\"\n",
    "])"
   ]
  },
  {
   "cell_type": "markdown",
   "id": "2847d87a-bce1-4f47-89b5-fded47a5b17e",
   "metadata": {},
   "source": [
    "Let's check if we still have the same pressure drop. Therefore, we create a rectangular duct with the same length and with the same air volume flow rate as the circular duct. When we create the rectangular duct, we don't know the specific pressure drop nor the total pressure drop, as this is just what we are looking for. So we omit these parameters when instantiating the duct. The program will notice that the cross-section of the duct is fully determined and that the volume flow rate is given, so it deduces that it is pressure drop that needs to be calculated. "
   ]
  },
  {
   "cell_type": "code",
   "execution_count": 38,
   "id": "0bead4f6-bd7b-40e2-8d1a-4ee75bf58c9c",
   "metadata": {},
   "outputs": [],
   "source": [
    "rect_duct = Duct.create(\n",
    "    length=Q_(18.2, 'm'),\n",
    "    wall_roughness=Q_(0.09, 'mm'),\n",
    "    fluid=STANDARD_AIR,\n",
    "    cross_section=rect_cross_sect,\n",
    "    volume_flow_rate=Q_(500, 'm ** 3 / hr')\n",
    ")"
   ]
  },
  {
   "cell_type": "code",
   "execution_count": 39,
   "id": "34c90e8e-c0a4-4c21-a320-5b5c2c9a93e6",
   "metadata": {},
   "outputs": [
    {
     "data": {
      "text/html": [
       "<ul><li>specific pressure drop across duct: <b>1.281 Pa/m</b></li><li>pressure drop across duct: <b>23.317 Pa</b></li></ul>"
      ],
      "text/plain": [
       "<IPython.core.display.HTML object>"
      ]
     },
     "metadata": {},
     "output_type": "display_data"
    }
   ],
   "source": [
    "ja.display_list([\n",
    "    f\"specific pressure drop across duct: <b>{rect_duct.specific_pressure_drop.to('Pa / m'):~P.3f}</b>\",\n",
    "    f\"pressure drop across duct: <b>{rect_duct.pressure_drop.to('Pa'):~P.3f}</b>\"\n",
    "])"
   ]
  },
  {
   "cell_type": "markdown",
   "id": "8fa39437-4205-4653-a290-be1a2f3ab5ea",
   "metadata": {},
   "source": [
    "## Sizing a Flat-Oval Duct"
   ]
  },
  {
   "cell_type": "markdown",
   "id": "b6bc4718-18f1-4b0f-9fdc-c8565a52b5d3",
   "metadata": {},
   "source": [
    "Sizing a flat-oval duct is similar to sizing a rectangular duct. Instead of `Rectangular` instantiate the cross-section from class `FlatOval`. The corresponding default schedule is now `flat_oval_duct_schedule`."
   ]
  },
  {
   "cell_type": "markdown",
   "id": "e837037b-1f0d-4358-944e-baf119040eb1",
   "metadata": {},
   "source": [
    "## Adding a Fitting to a Rectangular Duct"
   ]
  },
  {
   "cell_type": "markdown",
   "id": "35259446-1bfa-452e-a589-1167b86317ed",
   "metadata": {},
   "source": [
    "We will add a rectangular, mitered elbow to our last created rectangular duct. The loss coefficients of duct fittings are calculated based on the fitting loss coefficient tables in **SMACNA’s handbook “HVAC SYSTEMS - DUCT DESIGN”, Fourth Edition (2006)**. The designation of the fittings available in the program corresponds with the designation of the fitting loss tables in the handbook. The loss coefficients of rectangular mitered elbows can be found in table A-7,D of SMACNA’s handbook. For a complete overview of all the available duct fittings see the file `smacna.py` in the subpackage `fluid_flow.fittings.duct`.\n",
    "\n",
    "Adding a fitting to a duct is a two-step process. First create the fitting object, and then add it to the duct."
   ]
  },
  {
   "cell_type": "markdown",
   "id": "7e03711b-3746-4e0e-8cf5-0434d3c38464",
   "metadata": {},
   "source": [
    "**Create the Fitting**"
   ]
  },
  {
   "cell_type": "code",
   "execution_count": 41,
   "id": "dded746c-0331-4347-9736-fab4f860a63c",
   "metadata": {},
   "outputs": [],
   "source": [
    "from hvac.fluid_flow.fittings.duct import ElbowA7D"
   ]
  },
  {
   "cell_type": "code",
   "execution_count": 42,
   "id": "08a9e872-784a-4bbd-a329-dcef53442dbe",
   "metadata": {},
   "outputs": [],
   "source": [
    "elbow = ElbowA7D(ID='elbow1', duct=rect_duct, theta=Q_(90, 'deg'))"
   ]
  },
  {
   "cell_type": "markdown",
   "id": "02fba0c6-1b31-4cb8-b9c5-e7baab30727b",
   "metadata": {},
   "source": [
    "Notice that we need to pass the `Duct` object, in this case `rect_duct`, to the constructor of the fitting. Fittings can be assigned an ID and may need additional parameters, such as the angle of the elbow in this example. "
   ]
  },
  {
   "cell_type": "markdown",
   "id": "6b4bf1fc-8c6e-4417-9932-2a953e35d9c7",
   "metadata": {},
   "source": [
    "The loss or resistance coefficient of a fitting can be retrieved through its property `zeta`. The Greek letter *zeta* (ζ) is often used in literature to designate the loss coefficient of a fitting."
   ]
  },
  {
   "cell_type": "code",
   "execution_count": 43,
   "id": "c4f46458-4bca-4288-96be-15291fec4361",
   "metadata": {},
   "outputs": [
    {
     "data": {
      "text/html": [
       "<ul><li>loss coefficient of elbow: <b>1.488</b></li></ul>"
      ],
      "text/plain": [
       "<IPython.core.display.HTML object>"
      ]
     },
     "metadata": {},
     "output_type": "display_data"
    }
   ],
   "source": [
    "ja.display_list([\n",
    "    f\"loss coefficient of elbow: <b>{elbow.zeta:.3f}</b>\"\n",
    "])"
   ]
  },
  {
   "cell_type": "markdown",
   "id": "8051b383-22ef-4c0f-8ee7-110f66dee9b6",
   "metadata": {},
   "source": [
    "**Add the Fitting to the Duct**"
   ]
  },
  {
   "cell_type": "markdown",
   "id": "715bdb72-46d8-4991-85eb-eda883e44e0b",
   "metadata": {},
   "source": [
    "To distinguish between the different fittings in a duct, a name or ID can be assigned to a fitting. To add the fitting to the duct, we need to pass its loss coefficient and ID to the duct."
   ]
  },
  {
   "cell_type": "code",
   "execution_count": 44,
   "id": "abc9668d-ae2d-4c2f-8580-79eaad7b4237",
   "metadata": {},
   "outputs": [],
   "source": [
    "rect_duct.add_fitting(zeta=elbow.zeta, ID=elbow.ID)"
   ]
  },
  {
   "cell_type": "markdown",
   "id": "6bc76ac6-4287-4d9c-8a3c-d5b3af4a7502",
   "metadata": {},
   "source": [
    "Adding fittings to a duct, will mostly increase the pressure drop across the duct caused by the air flow. After the fitting has been added to the duct, we can check its effect on the pressure drop:"
   ]
  },
  {
   "cell_type": "code",
   "execution_count": 46,
   "id": "94b364cd-e1bd-4f21-a550-b037e89bf303",
   "metadata": {},
   "outputs": [
    {
     "data": {
      "text/html": [
       "<ul><li>total pressure drop along the duct: <b>35.945 Pa</b></li></ul>"
      ],
      "text/plain": [
       "<IPython.core.display.HTML object>"
      ]
     },
     "metadata": {},
     "output_type": "display_data"
    }
   ],
   "source": [
    "ja.display_list([\n",
    "    f\"total pressure drop along the duct: <b>{rect_duct.pressure_drop.to('Pa'):~P.3f}</b>\"\n",
    "])"
   ]
  },
  {
   "cell_type": "code",
   "execution_count": null,
   "id": "116d121b-3ddf-41b4-857c-a1d4ec62eed8",
   "metadata": {},
   "outputs": [],
   "source": []
  }
 ],
 "metadata": {
  "kernelspec": {
   "display_name": "Python 3 (ipykernel)",
   "language": "python",
   "name": "python3"
  },
  "language_info": {
   "codemirror_mode": {
    "name": "ipython",
    "version": 3
   },
   "file_extension": ".py",
   "mimetype": "text/x-python",
   "name": "python",
   "nbconvert_exporter": "python",
   "pygments_lexer": "ipython3",
   "version": "3.10.4"
  }
 },
 "nbformat": 4,
 "nbformat_minor": 5
}
